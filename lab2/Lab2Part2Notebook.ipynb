{
 "cells": [
  {
   "cell_type": "markdown",
   "metadata": {},
   "source": [
    "## Import Resource"
   ]
  },
  {
   "cell_type": "code",
   "execution_count": 1,
   "metadata": {},
   "outputs": [],
   "source": [
    "#Import packages\n",
    "\n",
    "import requests\n",
    "import json\n",
    "import pprint\n",
    "import zipfile"
   ]
  },
  {
   "cell_type": "code",
   "execution_count": 2,
   "metadata": {},
   "outputs": [],
   "source": [
    "packages = \"https://gisdata.mn.gov/api/3/action/package_list\"\n",
    "groups = \"https://gisdata.mn.gov/api/3/action/group_list\"\n",
    "tags = \"https://gisdata.mn.gov/api/3/action/tag_list\""
   ]
  },
  {
   "cell_type": "code",
   "execution_count": 3,
   "metadata": {},
   "outputs": [
    {
     "name": "stderr",
     "output_type": "stream",
     "text": [
      "C:\\Program Files\\ArcGIS\\Pro\\bin\\Python\\envs\\arcgispro-py3\\lib\\site-packages\\urllib3\\connectionpool.py:1020: InsecureRequestWarning: Unverified HTTPS request is being made to host 'gisdata.mn.gov'. Adding certificate verification is strongly advised. See: https://urllib3.readthedocs.io/en/latest/advanced-usage.html#ssl-warnings\n",
      "  InsecureRequestWarning,\n"
     ]
    }
   ],
   "source": [
    "response = requests.get(tags, auth=('user', 'pass'), verify = False)"
   ]
  },
  {
   "cell_type": "code",
   "execution_count": 12,
   "metadata": {},
   "outputs": [
    {
     "name": "stdout",
     "output_type": "stream",
     "text": [
      "extracting the content...\n"
     ]
    }
   ],
   "source": [
    "#Downloading data\n",
    "r = requests.get(\"https://resources.gisdata.mn.gov/pub/gdrs/data/pub/edu_umn/base_landcover_minnesota/tif_base_landcover_minnesota.zip\")\n",
    "open('tif_base_landcover_minnesota.zip','wb').write(r.content)\n",
    "print(\"extracting the content...\")\n",
    "with zipfile.ZipFile('tif_base_landcover_minnesota.zip','r') as zip_ref:\n",
    "    zip_ref.extractall(r'C:\\Users\\Zhaoxu Sui\\Documents\\GitHub\\GIS5571\\lab2\\Lab 2 Part 2')"
   ]
  },
  {
   "cell_type": "code",
   "execution_count": 6,
   "metadata": {},
   "outputs": [
    {
     "name": "stdout",
     "output_type": "stream",
     "text": [
      "extracting the content...\n"
     ]
    }
   ],
   "source": [
    "r = requests.get(\"https://resources.gisdata.mn.gov/pub/gdrs/data/pub/us_mn_state_dnr/bdry_dnr_lrs_prk/shp_bdry_dnr_lrs_prk.zip\")\n",
    "open('shp_bdry_dnr_lrs_prk.zip','wb').write(r.content)\n",
    "print(\"extracting the content...\")\n",
    "with zipfile.ZipFile('shp_bdry_dnr_lrs_prk.zip','r') as zip_ref:\n",
    "    zip_ref.extractall(r'C:\\Users\\Zhaoxu Sui\\Documents\\GitHub\\GIS5571\\lab2\\Lab 2 Part 2')"
   ]
  },
  {
   "cell_type": "code",
   "execution_count": 7,
   "metadata": {},
   "outputs": [
    {
     "name": "stdout",
     "output_type": "stream",
     "text": [
      "extracting the content...\n"
     ]
    }
   ],
   "source": [
    "r = requests.get(\"https://resources.gisdata.mn.gov/pub/gdrs/data/pub/us_mn_state_dnr/elev_30m_digital_elevation_model/fgdb_elev_30m_digital_elevation_model.zip\")\n",
    "open('fgdb_elev_30m_digital_elevation_model.zip','wb').write(r.content)\n",
    "print(\"extracting the content...\")\n",
    "with zipfile.ZipFile('fgdb_elev_30m_digital_elevation_model.zip','r') as zip_ref:\n",
    "    zip_ref.extractall(r'C:\\Users\\Zhaoxu Sui\\Documents\\GitHub\\GIS5571\\lab2\\Lab 2 Part 2\\DEM')"
   ]
  },
  {
   "cell_type": "code",
   "execution_count": 31,
   "metadata": {},
   "outputs": [
    {
     "name": "stdout",
     "output_type": "stream",
     "text": [
      "extracting the content...\n"
     ]
    }
   ],
   "source": [
    "r = requests.get(\"https://resources.gisdata.mn.gov/pub/gdrs/data/pub/us_mn_state_dnr/water_strahler_stream_order/shp_water_strahler_stream_order.zip\")\n",
    "open('shp_water_strahler_stream_order.zip','wb').write(r.content)\n",
    "print(\"extracting the content...\")\n",
    "with zipfile.ZipFile('shp_water_strahler_stream_order.zip','r') as zip_ref:\n",
    "    zip_ref.extractall(r'C:\\Users\\Zhaoxu Sui\\Documents\\GitHub\\GIS5571\\lab2\\Lab 2 Part 2')"
   ]
  },
  {
   "cell_type": "code",
   "execution_count": 13,
   "metadata": {},
   "outputs": [
    {
     "data": {
      "text/plain": [
       "<arcpy._mp.Layer object at 0x0000028100B82F48>"
      ]
     },
     "execution_count": 13,
     "metadata": {},
     "output_type": "execute_result"
    }
   ],
   "source": [
    "#Import ArcPy\n",
    "import arcpy\n",
    "\n",
    "#Import Data\n",
    "data1 = r\"C:\\Users\\Zhaoxu Sui\\Documents\\GitHub\\GIS5571\\lab2\\Lab 2 Part 2\\dnr_stat_plan_areas_prk.shp\"\n",
    "data2 = r\"C:\\Users\\Zhaoxu Sui\\Documents\\GitHub\\GIS5571\\lab2\\Lab 2 Part 2\\landcover_impervious_statewide2013_v2.tif\"\n",
    "\n",
    "#Add to the Map\n",
    "project = arcpy.mp.ArcGISProject(\"CURRENT\")\n",
    "map = project.activeMap\n",
    "map.addDataFromPath(data1)\n",
    "map.addDataFromPath(data2)"
   ]
  },
  {
   "cell_type": "code",
   "execution_count": 32,
   "metadata": {},
   "outputs": [
    {
     "data": {
      "text/plain": [
       "<arcpy._mp.Layer object at 0x0000028100D4A6C8>"
      ]
     },
     "execution_count": 32,
     "metadata": {},
     "output_type": "execute_result"
    }
   ],
   "source": [
    "data3 = r\"C:\\Users\\Zhaoxu Sui\\Documents\\GitHub\\GIS5571\\lab2\\Lab 2 Part 2\\streams_with_strahler_stream_order.shp\"\n",
    "map.addDataFromPath(data3)"
   ]
  },
  {
   "cell_type": "markdown",
   "metadata": {},
   "source": [
    "## Re-classify Land Cover Values"
   ]
  },
  {
   "cell_type": "code",
   "execution_count": 15,
   "metadata": {},
   "outputs": [
    {
     "data": {
      "text/html": [
       "<h2>Output</h2>C:\\Users\\Zhaoxu Sui\\Documents\\GitHub\\GIS5571\\lab2\\Lab 2 Part 2\\Lab 2 Part 2\\Reclass_land1<h2>Messages</h2>Start Time: Wednesday, October 27, 2021 12:58:26 AM<br/>Succeeded at Wednesday, October 27, 2021 12:59:39 AM (Elapsed Time: 1 minutes 13 seconds)<br/><style>.rendered_html td, .rendered_html th {text-align: left;}.rendered_html tbody {border: 1px solid black;}</style>"
      ],
      "text/plain": [
       "<Result 'C:\\\\Users\\\\Zhaoxu Sui\\\\Documents\\\\GitHub\\\\GIS5571\\\\lab2\\\\Lab 2 Part 2\\\\Lab 2 Part 2\\\\Reclass_land1'>"
      ]
     },
     "execution_count": 15,
     "metadata": {},
     "output_type": "execute_result"
    }
   ],
   "source": [
    "arcpy.ddd.Reclassify(\"landcover_impervious_statewide2013_v2.tif\", \"Value\", \"1 100 2;101 7;102 8;103 10;104 8;105 1;106 1;107 1;108 1;109 10;110 10\", r\"C:\\Users\\Zhaoxu Sui\\Documents\\GitHub\\GIS5571\\lab2\\Lab 2 Part 2\\Lab 2 Part 2\\Reclass_land1\", \"DATA\")"
   ]
  },
  {
   "cell_type": "markdown",
   "metadata": {},
   "source": [
    "#### Specifying Start Point and Analysis Boundary"
   ]
  },
  {
   "cell_type": "code",
   "execution_count": 17,
   "metadata": {},
   "outputs": [
    {
     "data": {
      "text/html": [
       "<h2>Output</h2>C:\\Users\\Zhaoxu Sui\\Documents\\GitHub\\GIS5571\\lab2\\Lab 2 Part 2\\Lab 2 Part 2\\Lab 2 Part 2.gdb\\xy_Start_Point_XYTableToPoint<h2>Messages</h2>Start Time: Wednesday, October 27, 2021 1:16:19 AM<br/>Succeeded at Wednesday, October 27, 2021 1:16:20 AM (Elapsed Time: 0.78 seconds)<br/><style>.rendered_html td, .rendered_html th {text-align: left;}.rendered_html tbody {border: 1px solid black;}</style>"
      ],
      "text/plain": [
       "<Result 'C:\\\\Users\\\\Zhaoxu Sui\\\\Documents\\\\GitHub\\\\GIS5571\\\\lab2\\\\Lab 2 Part 2\\\\Lab 2 Part 2\\\\Lab 2 Part 2.gdb\\\\xy_Start_Point_XYTableToPoint'>"
      ]
     },
     "execution_count": 17,
     "metadata": {},
     "output_type": "execute_result"
    }
   ],
   "source": [
    "arcpy.management.CreateFeatureclass(r\"C:\\Users\\Zhaoxu Sui\\Documents\\GitHub\\GIS5571\\lab2\\Lab 2 Part 2\\Lab 2 Part 2\\Lab 2 Part 2.gdb\", \"Clip_Boundary\", \"POLYGON\", None, \"DISABLED\", \"DISABLED\", None, '', 0, 0, 0, '')\n",
    "arcpy.management.XYTableToPoint(r\"C:\\Users\\Zhaoxu Sui\\Documents\\GitHub\\GIS5571\\lab2\\Lab 2 Part 2\\Lab 2 Part 2\\xy_Start_Point.txt\", r\"C:\\Users\\Zhaoxu Sui\\Documents\\GitHub\\GIS5571\\lab2\\Lab 2 Part 2\\Lab 2 Part 2\\Lab 2 Part 2.gdb\\xy_Start_Point_XYTableToPoint\", \"LON\", \"LAT\", None, 'GEOGCS[\"GCS_WGS_1984\",DATUM[\"D_WGS_1984\",SPHEROID[\"WGS_1984\",6378137.0,298.257223563]],PRIMEM[\"Greenwich\",0.0],UNIT[\"Degree\",0.0174532925199433]];-400 -400 1000000000;-100000 10000;-100000 10000;8.98315284119521E-09;0.001;0.001;IsHighPrecision')"
   ]
  },
  {
   "cell_type": "markdown",
   "metadata": {},
   "source": [
    "## Clip Data"
   ]
  },
  {
   "cell_type": "code",
   "execution_count": 18,
   "metadata": {},
   "outputs": [
    {
     "data": {
      "text/html": [
       "<h2>Output</h2>C:\\Users\\Zhaoxu Sui\\Documents\\GitHub\\GIS5571\\lab2\\Lab 2 Part 2\\Lab 2 Part 2\\Lab 2 Part 2.gdb\\landcover_clipped<h2>Messages</h2>Start Time: Wednesday, October 27, 2021 1:18:00 AM<br/>Building Pyramids...<br/>Succeeded at Wednesday, October 27, 2021 1:18:01 AM (Elapsed Time: 0.60 seconds)<br/><style>.rendered_html td, .rendered_html th {text-align: left;}.rendered_html tbody {border: 1px solid black;}</style>"
      ],
      "text/plain": [
       "<Result 'C:\\\\Users\\\\Zhaoxu Sui\\\\Documents\\\\GitHub\\\\GIS5571\\\\lab2\\\\Lab 2 Part 2\\\\Lab 2 Part 2\\\\Lab 2 Part 2.gdb\\\\landcover_clipped'>"
      ]
     },
     "execution_count": 18,
     "metadata": {},
     "output_type": "execute_result"
    }
   ],
   "source": [
    "arcpy.management.Clip(\"Reclass_land1\", \"556546.231689453 4871586.49511719 587791.724914551 4891237.27508545\", r\"C:\\Users\\Zhaoxu Sui\\Documents\\GitHub\\GIS5571\\lab2\\Lab 2 Part 2\\Lab 2 Part 2\\Lab 2 Part 2.gdb\\landcover_clipped\", \"Clip_Boundary\", \"15\", \"NONE\", \"NO_MAINTAIN_EXTENT\")"
   ]
  },
  {
   "cell_type": "code",
   "execution_count": 19,
   "metadata": {},
   "outputs": [
    {
     "data": {
      "text/html": [
       "<h2>Output</h2>C:\\Users\\Zhaoxu Sui\\Documents\\GitHub\\GIS5571\\lab2\\Lab 2 Part 2\\Lab 2 Part 2\\Lab 2 Part 2.gdb\\Elevation_clipped<h2>Messages</h2>Start Time: Wednesday, October 27, 2021 1:18:57 AM<br/>Building Pyramids...<br/>Succeeded at Wednesday, October 27, 2021 1:18:57 AM (Elapsed Time: 0.47 seconds)<br/><style>.rendered_html td, .rendered_html th {text-align: left;}.rendered_html tbody {border: 1px solid black;}</style>"
      ],
      "text/plain": [
       "<Result 'C:\\\\Users\\\\Zhaoxu Sui\\\\Documents\\\\GitHub\\\\GIS5571\\\\lab2\\\\Lab 2 Part 2\\\\Lab 2 Part 2\\\\Lab 2 Part 2.gdb\\\\Elevation_clipped'>"
      ]
     },
     "execution_count": 19,
     "metadata": {},
     "output_type": "execute_result"
    }
   ],
   "source": [
    "arcpy.management.Clip(\"digital_elevation_model_30m\", \"556546.231689453 4871586.49511719 587791.724914551 4891237.27508545\", r\"C:\\Users\\Zhaoxu Sui\\Documents\\GitHub\\GIS5571\\lab2\\Lab 2 Part 2\\Lab 2 Part 2\\Lab 2 Part 2.gdb\\Elevation_clipped\", \"Clip_Boundary\", \"32767\", \"NONE\", \"NO_MAINTAIN_EXTENT\")"
   ]
  },
  {
   "cell_type": "markdown",
   "metadata": {},
   "source": [
    "## Generate and Rescale Slope"
   ]
  },
  {
   "cell_type": "code",
   "execution_count": 20,
   "metadata": {},
   "outputs": [
    {
     "data": {
      "text/html": [
       "<h2>Output</h2>C:\\Users\\Zhaoxu Sui\\Documents\\GitHub\\GIS5571\\lab2\\Lab 2 Part 2\\Lab 2 Part 2\\Lab 2 Part 2.gdb\\Slope<h2>Messages</h2>Start Time: Wednesday, October 27, 2021 1:20:53 AM<br/>Succeeded at Wednesday, October 27, 2021 1:20:54 AM (Elapsed Time: 0.71 seconds)<br/><style>.rendered_html td, .rendered_html th {text-align: left;}.rendered_html tbody {border: 1px solid black;}</style>"
      ],
      "text/plain": [
       "<Result 'C:\\\\Users\\\\Zhaoxu Sui\\\\Documents\\\\GitHub\\\\GIS5571\\\\lab2\\\\Lab 2 Part 2\\\\Lab 2 Part 2\\\\Lab 2 Part 2.gdb\\\\Slope'>"
      ]
     },
     "execution_count": 20,
     "metadata": {},
     "output_type": "execute_result"
    }
   ],
   "source": [
    "arcpy.ddd.Slope(\"Elevation_clipped\", r\"C:\\Users\\Zhaoxu Sui\\Documents\\GitHub\\GIS5571\\lab2\\Lab 2 Part 2\\Lab 2 Part 2\\Lab 2 Part 2.gdb\\Slope\", \"DEGREE\", 1, \"PLANAR\", \"METER\")"
   ]
  },
  {
   "cell_type": "code",
   "execution_count": 46,
   "metadata": {},
   "outputs": [],
   "source": [
    "slope_rescaled = arcpy.sa.RescaleByFunction(\"Slope\", \"MSLARGE 1 1 0 # 74.98814392089844 #\", 1, 10); out_raster.save(r\"C:\\Users\\Zhaoxu Sui\\Documents\\GitHub\\GIS5571\\lab2\\Lab 2 Part 2\\Lab 2 Part 2\\Lab 2 Part 2.gdb\\Rescale_Slope\")"
   ]
  },
  {
   "cell_type": "markdown",
   "metadata": {},
   "source": [
    "## Merge the State Park Destinations into the Point Feature Class"
   ]
  },
  {
   "cell_type": "code",
   "execution_count": 26,
   "metadata": {},
   "outputs": [
    {
     "data": {
      "text/html": [
       "<h2>Output</h2><table><tr><th>id</th><th>value</th></tr><tr><td>0</td><td>a Layer object</td></tr><tr><td>1</td><td>1</td></tr></table><h2>Messages</h2>Start Time: Wednesday, October 27, 2021 1:40:57 AM<br/>Succeeded at Wednesday, October 27, 2021 1:40:57 AM (Elapsed Time: 0.02 seconds)<br/><style>.rendered_html td, .rendered_html th {text-align: left;}.rendered_html tbody {border: 1px solid black;}</style>"
      ],
      "text/plain": [
       "<Result 'dnr_stat_plan_areas_prk'>"
      ]
     },
     "execution_count": 26,
     "metadata": {},
     "output_type": "execute_result"
    }
   ],
   "source": [
    "arcpy.management.SelectLayerByAttribute(\"dnr_stat_plan_areas_prk\", \"NEW_SELECTION\", \"AREA_NAME = 'Whitewater'\", None)"
   ]
  },
  {
   "cell_type": "code",
   "execution_count": 27,
   "metadata": {},
   "outputs": [
    {
     "data": {
      "text/html": [
       "<h2>Output</h2>C:\\Users\\Zhaoxu Sui\\Documents\\GitHub\\GIS5571\\lab2\\Lab 2 Part 2\\Lab 2 Part 2\\Lab 2 Part 2.gdb\\End_Point<h2>Messages</h2>Start Time: Wednesday, October 27, 2021 1:41:33 AM<br/>Succeeded at Wednesday, October 27, 2021 1:41:33 AM (Elapsed Time: 0.34 seconds)<br/><style>.rendered_html td, .rendered_html th {text-align: left;}.rendered_html tbody {border: 1px solid black;}</style>"
      ],
      "text/plain": [
       "<Result 'C:\\\\Users\\\\Zhaoxu Sui\\\\Documents\\\\GitHub\\\\GIS5571\\\\lab2\\\\Lab 2 Part 2\\\\Lab 2 Part 2\\\\Lab 2 Part 2.gdb\\\\End_Point'>"
      ]
     },
     "execution_count": 27,
     "metadata": {},
     "output_type": "execute_result"
    }
   ],
   "source": [
    "arcpy.management.FeatureToPoint(\"dnr_stat_plan_areas_prk\", r\"C:\\Users\\Zhaoxu Sui\\Documents\\GitHub\\GIS5571\\lab2\\Lab 2 Part 2\\Lab 2 Part 2\\Lab 2 Part 2.gdb\\End_Point\", \"CENTROID\")"
   ]
  },
  {
   "cell_type": "code",
   "execution_count": 28,
   "metadata": {},
   "outputs": [
    {
     "data": {
      "text/html": [
       "<h2>Output</h2>C:\\Users\\Zhaoxu Sui\\Documents\\GitHub\\GIS5571\\lab2\\Lab 2 Part 2\\Lab 2 Part 2\\Lab 2 Part 2.gdb\\Start_End_Point<h2>Messages</h2>Start Time: Wednesday, October 27, 2021 1:42:42 AM<br/>Succeeded at Wednesday, October 27, 2021 1:42:43 AM (Elapsed Time: 0.25 seconds)<br/><style>.rendered_html td, .rendered_html th {text-align: left;}.rendered_html tbody {border: 1px solid black;}</style>"
      ],
      "text/plain": [
       "<Result 'C:\\\\Users\\\\Zhaoxu Sui\\\\Documents\\\\GitHub\\\\GIS5571\\\\lab2\\\\Lab 2 Part 2\\\\Lab 2 Part 2\\\\Lab 2 Part 2.gdb\\\\Start_End_Point'>"
      ]
     },
     "execution_count": 28,
     "metadata": {},
     "output_type": "execute_result"
    }
   ],
   "source": [
    "arcpy.management.Merge(\"xy_Start_Point_XYTableToPoint;End_Point\", r\"C:\\Users\\Zhaoxu Sui\\Documents\\GitHub\\GIS5571\\lab2\\Lab 2 Part 2\\Lab 2 Part 2\\Lab 2 Part 2.gdb\\Start_End_Point\", 'Name \"Name\" true true false 8000 Text 0 0,First,#,xy_Start_Point_XYTableToPoint,Name,0,8000,End_Point,AREA_NAME,0,128', \"NO_SOURCE_INFO\")"
   ]
  },
  {
   "cell_type": "markdown",
   "metadata": {},
   "source": [
    "## Optimal Path if both Land Classification and the Slope are in a same weight"
   ]
  },
  {
   "cell_type": "code",
   "execution_count": 47,
   "metadata": {},
   "outputs": [],
   "source": [
    "out_raster = arcpy.ia.WeightedSum(\"slope_rescaled VALUE 1;Reclass_land1 VALUE 1\"); out_raster.save(r\"C:\\Users\\Zhaoxu Sui\\Documents\\GitHub\\GIS5571\\lab2\\Lab 2 Part 2\\Lab 2 Part 2\\Lab 2 Part 2.gdb\\Cost_Surface_Same\")"
   ]
  },
  {
   "cell_type": "code",
   "execution_count": 48,
   "metadata": {},
   "outputs": [
    {
     "data": {
      "text/plain": [
       "<geoprocessing server result object object at 0x00000281009275A0>"
      ]
     },
     "execution_count": 48,
     "metadata": {},
     "output_type": "execute_result"
    }
   ],
   "source": [
    "arcpy.sa.OptimalRegionConnections(\"Start_End_Point\", r\"C:\\Users\\Zhaoxu Sui\\Documents\\GitHub\\GIS5571\\lab2\\Lab 2 Part 2\\Lab 2 Part 2\\Lab 2 Part 2.gdb\\Optimal_Connection_Equal_Weights\", None, \"out_raster\", None, \"PLANAR\", \"GENERATE_CONNECTIONS\")"
   ]
  },
  {
   "cell_type": "markdown",
   "metadata": {},
   "source": [
    "## More Weight on the Slope"
   ]
  },
  {
   "cell_type": "code",
   "execution_count": 49,
   "metadata": {},
   "outputs": [],
   "source": [
    "surface_Slope = arcpy.ia.WeightedSum(\"slope_rescaled VALUE 10;Reclass_land1 VALUE 1\"); out_raster.save(r\"C:\\Users\\Zhaoxu Sui\\Documents\\GitHub\\GIS5571\\lab2\\Lab 2 Part 2\\Lab 2 Part 2\\Lab 2 Part 2.gdb\\Cost_Surface_Slope\")"
   ]
  },
  {
   "cell_type": "code",
   "execution_count": 50,
   "metadata": {},
   "outputs": [
    {
     "data": {
      "text/plain": [
       "<geoprocessing server result object object at 0x0000028100927D80>"
      ]
     },
     "execution_count": 50,
     "metadata": {},
     "output_type": "execute_result"
    }
   ],
   "source": [
    "arcpy.sa.OptimalRegionConnections(\"Start_End_Point\", r\"C:\\Users\\Zhaoxu Sui\\Documents\\GitHub\\GIS5571\\lab2\\Lab 2 Part 2\\Lab 2 Part 2\\Lab 2 Part 2.gdb\\Optimal_Connection_Slope\", None, \"surface_Slope\", None, \"PLANAR\", \"GENERATE_CONNECTIONS\")"
   ]
  },
  {
   "cell_type": "markdown",
   "metadata": {},
   "source": [
    "## more Weight on the Land Use"
   ]
  },
  {
   "cell_type": "code",
   "execution_count": 51,
   "metadata": {},
   "outputs": [],
   "source": [
    "surface_land_use = arcpy.ia.WeightedSum(\"slope_rescaled VALUE 1;Reclass_land1 VALUE 10\"); out_raster.save(r\"C:\\Users\\Zhaoxu Sui\\Documents\\GitHub\\GIS5571\\lab2\\Lab 2 Part 2\\Lab 2 Part 2\\Lab 2 Part 2.gdb\\Cost_Surface_Landuse\")"
   ]
  },
  {
   "cell_type": "code",
   "execution_count": 52,
   "metadata": {},
   "outputs": [
    {
     "data": {
      "text/plain": [
       "<geoprocessing server result object object at 0x0000028100927E10>"
      ]
     },
     "execution_count": 52,
     "metadata": {},
     "output_type": "execute_result"
    }
   ],
   "source": [
    "arcpy.sa.OptimalRegionConnections(\"Start_End_Point\", r\"C:\\Users\\Zhaoxu Sui\\Documents\\GitHub\\GIS5571\\lab2\\Lab 2 Part 2\\Lab 2 Part 2\\Lab 2 Part 2.gdb\\Optimal_Connection_Landuse\", None, \"surface_land_use\", None, \"PLANAR\", \"GENERATE_CONNECTIONS\")"
   ]
  },
  {
   "cell_type": "code",
   "execution_count": null,
   "metadata": {},
   "outputs": [],
   "source": []
  }
 ],
 "metadata": {
  "kernelspec": {
   "display_name": "ArcGISPro",
   "language": "Python",
   "name": "python3"
  },
  "language_info": {
   "file_extension": ".py",
   "name": "python",
   "version": "3"
  }
 },
 "nbformat": 4,
 "nbformat_minor": 2
}
