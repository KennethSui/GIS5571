{
 "cells": [
  {
   "cell_type": "code",
   "execution_count": 2,
   "metadata": {},
   "outputs": [],
   "source": [
    "#Import packages\n",
    "\n",
    "import requests\n",
    "import json\n",
    "import pprint\n",
    "import zipfile"
   ]
  },
  {
   "cell_type": "code",
   "execution_count": 3,
   "metadata": {},
   "outputs": [],
   "source": [
    "packages = \"https://gisdata.mn.gov/api/3/action/package_list\"\n",
    "groups = \"https://gisdata.mn.gov/api/3/action/group_list\"\n",
    "tags = \"https://gisdata.mn.gov/api/3/action/tag_list\""
   ]
  },
  {
   "cell_type": "code",
   "execution_count": 4,
   "metadata": {},
   "outputs": [
    {
     "name": "stderr",
     "output_type": "stream",
     "text": [
      "C:\\Program Files\\ArcGIS\\Pro\\bin\\Python\\envs\\arcgispro-py3\\lib\\site-packages\\urllib3\\connectionpool.py:1020: InsecureRequestWarning: Unverified HTTPS request is being made to host 'gisdata.mn.gov'. Adding certificate verification is strongly advised. See: https://urllib3.readthedocs.io/en/latest/advanced-usage.html#ssl-warnings\n",
      "  InsecureRequestWarning,\n"
     ]
    }
   ],
   "source": [
    "response = requests.get(tags, auth=('user', 'pass'), verify = False)"
   ]
  },
  {
   "cell_type": "markdown",
   "metadata": {},
   "source": [
    " # Part 1.1"
   ]
  },
  {
   "cell_type": "markdown",
   "metadata": {},
   "source": [
    "#### Downloading LAS File from MN DNR"
   ]
  },
  {
   "cell_type": "code",
   "execution_count": 6,
   "metadata": {},
   "outputs": [],
   "source": [
    "r = requests.get(\"https://resources.gisdata.mn.gov/pub/data/elevation/lidar/examples/lidar_sample/las/4342-12-05.las\")\n",
    "with open(r'C:\\Users\\Zhaoxu Sui\\Documents\\GitHub\\GIS5571\\lab2\\Lab 2 Part 1\\4342-12-05.las', 'wb') as f:\n",
    "    f.write(r.content)"
   ]
  },
  {
   "cell_type": "markdown",
   "metadata": {},
   "source": [
    "#### Converts .LAS file into both a DEM and a TIN"
   ]
  },
  {
   "cell_type": "code",
   "execution_count": 8,
   "metadata": {},
   "outputs": [
    {
     "data": {
      "text/plain": [
       "<arcpy._mp.Layer object at 0x0000023C8CE21CC8>"
      ]
     },
     "execution_count": 8,
     "metadata": {},
     "output_type": "execute_result"
    }
   ],
   "source": [
    "#Import ArcPy\n",
    "import arcpy\n",
    "\n",
    "data1 = r\"C:\\Users\\Zhaoxu Sui\\Documents\\GitHub\\GIS5571\\lab2\\Lab 2 Part 1\\4342-12-05.las\"\n",
    "project = arcpy.mp.ArcGISProject(\"CURRENT\")\n",
    "map = project.activeMap\n",
    "map.addDataFromPath(data1)"
   ]
  },
  {
   "cell_type": "code",
   "execution_count": 10,
   "metadata": {},
   "outputs": [
    {
     "data": {
      "text/html": [
       "<h2>Output</h2>C:\\Users\\Zhaoxu Sui\\Documents\\GitHub\\GIS5571\\lab2\\Lab 2 Part 1\\c4342-12-05_LasDatasetToTin<h2>Messages</h2>Start Time: Tuesday, October 26, 2021 5:26:15 PM<br/>Succeeded at Tuesday, October 26, 2021 5:26:19 PM (Elapsed Time: 3.71 seconds)<br/><style>.rendered_html td, .rendered_html th {text-align: left;}.rendered_html tbody {border: 1px solid black;}</style>"
      ],
      "text/plain": [
       "<Result 'C:\\\\Users\\\\Zhaoxu Sui\\\\Documents\\\\GitHub\\\\GIS5571\\\\lab2\\\\Lab 2 Part 1\\\\c4342-12-05_LasDatasetToTin'>"
      ]
     },
     "execution_count": 10,
     "metadata": {},
     "output_type": "execute_result"
    }
   ],
   "source": [
    "#Creating DEM\n",
    "arcpy.conversion.LasDatasetToRaster(\"4342-12-05.las\", r\"c:\\users\\zhaoxu sui\\documents\\github\\gis5571\\lab2\\lab 2 part 1\\c4342-12-05_.tif\", \"ELEVATION\", \"BINNING AVERAGE LINEAR\", \"FLOAT\", \"CELLSIZE\", 10, 1)\n",
    "#Creating TIN\n",
    "arcpy.ddd.LasDatasetToTin(\"4342-12-05.las\", r\"C:\\Users\\Zhaoxu Sui\\Documents\\GitHub\\GIS5571\\lab2\\Lab 2 Part 1\\c4342-12-05_LasDatasetToTin\", \"RANDOM\", \"PERCENT\", 13.989, 5000000, 1, \"CLIP\")"
   ]
  },
  {
   "cell_type": "markdown",
   "metadata": {},
   "source": [
    "#### Export and Save files in the disk"
   ]
  },
  {
   "cell_type": "code",
   "execution_count": 16,
   "metadata": {},
   "outputs": [
    {
     "data": {
      "text/plain": [
       "'C:\\\\Users\\\\Zhaoxu Sui\\\\Documents\\\\GitHub\\\\GIS5571\\\\lab2\\\\DEM.pdf'"
      ]
     },
     "execution_count": 16,
     "metadata": {},
     "output_type": "execute_result"
    }
   ],
   "source": [
    "#Create layouts and insert the proper visualizations into those layouts in ArcPro\n",
    "\n",
    "lyt = aprx.listLayouts(\"TIN\")[0]\n",
    "lyt.exportToPDF(r\"C:\\Users\\Zhaoxu Sui\\Documents\\GitHub\\GIS5571\\lab2\\TIN.pdf\")\n",
    "\n",
    "lyt = aprx.listLayouts(\"DEM\")[0]\n",
    "lyt.exportToPDF(r\"C:\\Users\\Zhaoxu Sui\\Documents\\GitHub\\GIS5571\\lab2\\DEM.pdf\")"
   ]
  },
  {
   "cell_type": "markdown",
   "metadata": {},
   "source": [
    "# Part 1.2"
   ]
  },
  {
   "cell_type": "markdown",
   "metadata": {},
   "source": [
    "By comparing the visualizations of LAS file in 2D and 3D, I found that those points in the 2D surface is really difficult to view under a really small scale, so there is only the TIN layer and DEM layer visible in the left image. However, those points in the 3D view are more straightforward and represent their relative elections. Both 2D view and 3D view of this layer used a gradient color scheme."
   ]
  },
  {
   "cell_type": "markdown",
   "metadata": {},
   "source": [
    "# Part 1.3"
   ]
  },
  {
   "cell_type": "code",
   "execution_count": null,
   "metadata": {},
   "outputs": [],
   "source": [
    "import ftplib\n",
    "\n",
    "FTP_HOST = \"prism.nacse.org\"\n",
    "FTP_USER = \"anonymous\"\n",
    "FTP_PASS = \"sui00013@umn.edu\"\n",
    "\n",
    "# connect to the FTP server\n",
    "ftp = ftplib.FTP(FTP_HOST, FTP_USER, FTP_PASS)\n",
    "# force UTF-8 encoding\n",
    "ftp.encoding = \"utf-8\"\n",
    "\n",
    "ftp.cwd('normals_4km/ppt')\n",
    "#Download from FTP Server\n",
    "filename = 'PRISM_ppt_30yr_normal_4kmM2_all_bil.zip'\n",
    "with open(filename, 'wb') as file:\n",
    "    ftp.retrbinary('RETR PRISM_ppt_30yr_normal_4kmM2_all_bil.zip', file.write)\n",
    "    \n",
    "ftp.quit()"
   ]
  },
  {
   "cell_type": "code",
   "execution_count": 23,
   "metadata": {},
   "outputs": [],
   "source": [
    "#Unzip Zipfile\n",
    "import zipfile\n",
    "with zipfile.ZipFile(r'C:\\Users\\Zhaoxu Sui\\Documents\\GitHub\\GIS5571\\lab2\\Lab 2 Part 1\\PRISM_ppt_30yr_normal_4kmM2_all_bil.zip') as zip_ref:\n",
    "    zip_ref.extractall(r'C:\\Users\\Zhaoxu Sui\\Documents\\GitHub\\GIS5571\\lab2\\Lab 2 Part 1\\PRISM')"
   ]
  },
  {
   "cell_type": "code",
   "execution_count": 41,
   "metadata": {},
   "outputs": [
    {
     "data": {
      "text/html": [
       "<h2>Output</h2><h2>Messages</h2>Start Time: Tuesday, October 26, 2021 10:50:32 PM<br/>Successfully converted: C:\\Users\\Zhaoxu Sui\\Documents\\GitHub\\GIS5571\\lab2\\Lab 2 Part 1\\PRISM\\PRISM_ppt_30yr_normal_4kmM2_01_bil.bil To C:\\Users\\Zhaoxu Sui\\Documents\\GitHub\\GIS5571\\lab2\\Lab 2 Part 1\\PRISM\\TIFFS\\PRISM_ppt_30yr_normal_4kmM2_01_bil_1.tif<br/>Successfully converted: C:\\Users\\Zhaoxu Sui\\Documents\\GitHub\\GIS5571\\lab2\\Lab 2 Part 1\\PRISM\\PRISM_ppt_30yr_normal_4kmM2_02_bil.bil To C:\\Users\\Zhaoxu Sui\\Documents\\GitHub\\GIS5571\\lab2\\Lab 2 Part 1\\PRISM\\TIFFS\\PRISM_ppt_30yr_normal_4kmM2_02_bil_1.tif<br/>Successfully converted: C:\\Users\\Zhaoxu Sui\\Documents\\GitHub\\GIS5571\\lab2\\Lab 2 Part 1\\PRISM\\PRISM_ppt_30yr_normal_4kmM2_03_bil.bil To C:\\Users\\Zhaoxu Sui\\Documents\\GitHub\\GIS5571\\lab2\\Lab 2 Part 1\\PRISM\\TIFFS\\PRISM_ppt_30yr_normal_4kmM2_03_bil_1.tif<br/>Successfully converted: C:\\Users\\Zhaoxu Sui\\Documents\\GitHub\\GIS5571\\lab2\\Lab 2 Part 1\\PRISM\\PRISM_ppt_30yr_normal_4kmM2_04_bil.bil To C:\\Users\\Zhaoxu Sui\\Documents\\GitHub\\GIS5571\\lab2\\Lab 2 Part 1\\PRISM\\TIFFS\\PRISM_ppt_30yr_normal_4kmM2_04_bil_1.tif<br/>Successfully converted: C:\\Users\\Zhaoxu Sui\\Documents\\GitHub\\GIS5571\\lab2\\Lab 2 Part 1\\PRISM\\PRISM_ppt_30yr_normal_4kmM2_05_bil.bil To C:\\Users\\Zhaoxu Sui\\Documents\\GitHub\\GIS5571\\lab2\\Lab 2 Part 1\\PRISM\\TIFFS\\PRISM_ppt_30yr_normal_4kmM2_05_bil_1.tif<br/>Successfully converted: C:\\Users\\Zhaoxu Sui\\Documents\\GitHub\\GIS5571\\lab2\\Lab 2 Part 1\\PRISM\\PRISM_ppt_30yr_normal_4kmM2_06_bil.bil To C:\\Users\\Zhaoxu Sui\\Documents\\GitHub\\GIS5571\\lab2\\Lab 2 Part 1\\PRISM\\TIFFS\\PRISM_ppt_30yr_normal_4kmM2_06_bil_1.tif<br/>Successfully converted: C:\\Users\\Zhaoxu Sui\\Documents\\GitHub\\GIS5571\\lab2\\Lab 2 Part 1\\PRISM\\PRISM_ppt_30yr_normal_4kmM2_07_bil.bil To C:\\Users\\Zhaoxu Sui\\Documents\\GitHub\\GIS5571\\lab2\\Lab 2 Part 1\\PRISM\\TIFFS\\PRISM_ppt_30yr_normal_4kmM2_07_bil_1.tif<br/>Successfully converted: C:\\Users\\Zhaoxu Sui\\Documents\\GitHub\\GIS5571\\lab2\\Lab 2 Part 1\\PRISM\\PRISM_ppt_30yr_normal_4kmM2_08_bil.bil To C:\\Users\\Zhaoxu Sui\\Documents\\GitHub\\GIS5571\\lab2\\Lab 2 Part 1\\PRISM\\TIFFS\\PRISM_ppt_30yr_normal_4kmM2_08_bil_1.tif<br/>Successfully converted: C:\\Users\\Zhaoxu Sui\\Documents\\GitHub\\GIS5571\\lab2\\Lab 2 Part 1\\PRISM\\PRISM_ppt_30yr_normal_4kmM2_09_bil.bil To C:\\Users\\Zhaoxu Sui\\Documents\\GitHub\\GIS5571\\lab2\\Lab 2 Part 1\\PRISM\\TIFFS\\PRISM_ppt_30yr_normal_4kmM2_09_bil_1.tif<br/>Successfully converted: C:\\Users\\Zhaoxu Sui\\Documents\\GitHub\\GIS5571\\lab2\\Lab 2 Part 1\\PRISM\\PRISM_ppt_30yr_normal_4kmM2_10_bil.bil To C:\\Users\\Zhaoxu Sui\\Documents\\GitHub\\GIS5571\\lab2\\Lab 2 Part 1\\PRISM\\TIFFS\\PRISM_ppt_30yr_normal_4kmM2_10_bil_1.tif<br/>Successfully converted: C:\\Users\\Zhaoxu Sui\\Documents\\GitHub\\GIS5571\\lab2\\Lab 2 Part 1\\PRISM\\PRISM_ppt_30yr_normal_4kmM2_11_bil.bil To C:\\Users\\Zhaoxu Sui\\Documents\\GitHub\\GIS5571\\lab2\\Lab 2 Part 1\\PRISM\\TIFFS\\PRISM_ppt_30yr_normal_4kmM2_11_bil_1.tif<br/>Successfully converted: C:\\Users\\Zhaoxu Sui\\Documents\\GitHub\\GIS5571\\lab2\\Lab 2 Part 1\\PRISM\\PRISM_ppt_30yr_normal_4kmM2_12_bil.bil To C:\\Users\\Zhaoxu Sui\\Documents\\GitHub\\GIS5571\\lab2\\Lab 2 Part 1\\PRISM\\TIFFS\\PRISM_ppt_30yr_normal_4kmM2_12_bil_1.tif<br/>Succeeded at Tuesday, October 26, 2021 10:50:36 PM (Elapsed Time: 4.37 seconds)<br/><style>.rendered_html td, .rendered_html th {text-align: left;}.rendered_html tbody {border: 1px solid black;}</style>"
      ],
      "text/plain": [
       "<Result ''>"
      ]
     },
     "execution_count": 41,
     "metadata": {},
     "output_type": "execute_result"
    }
   ],
   "source": [
    "#Convert bil to tif\n",
    "arcpy.conversion.RasterToOtherFormat(r\"'C:\\Users\\Zhaoxu Sui\\Documents\\GitHub\\GIS5571\\lab2\\Lab 2 Part 1\\PRISM\\PRISM_ppt_30yr_normal_4kmM2_01_bil.bil';'C:\\Users\\Zhaoxu Sui\\Documents\\GitHub\\GIS5571\\lab2\\Lab 2 Part 1\\PRISM\\PRISM_ppt_30yr_normal_4kmM2_02_bil.bil';'C:\\Users\\Zhaoxu Sui\\Documents\\GitHub\\GIS5571\\lab2\\Lab 2 Part 1\\PRISM\\PRISM_ppt_30yr_normal_4kmM2_03_bil.bil';'C:\\Users\\Zhaoxu Sui\\Documents\\GitHub\\GIS5571\\lab2\\Lab 2 Part 1\\PRISM\\PRISM_ppt_30yr_normal_4kmM2_04_bil.bil';'C:\\Users\\Zhaoxu Sui\\Documents\\GitHub\\GIS5571\\lab2\\Lab 2 Part 1\\PRISM\\PRISM_ppt_30yr_normal_4kmM2_05_bil.bil';'C:\\Users\\Zhaoxu Sui\\Documents\\GitHub\\GIS5571\\lab2\\Lab 2 Part 1\\PRISM\\PRISM_ppt_30yr_normal_4kmM2_06_bil.bil';'C:\\Users\\Zhaoxu Sui\\Documents\\GitHub\\GIS5571\\lab2\\Lab 2 Part 1\\PRISM\\PRISM_ppt_30yr_normal_4kmM2_07_bil.bil';'C:\\Users\\Zhaoxu Sui\\Documents\\GitHub\\GIS5571\\lab2\\Lab 2 Part 1\\PRISM\\PRISM_ppt_30yr_normal_4kmM2_08_bil.bil';'C:\\Users\\Zhaoxu Sui\\Documents\\GitHub\\GIS5571\\lab2\\Lab 2 Part 1\\PRISM\\PRISM_ppt_30yr_normal_4kmM2_09_bil.bil';'C:\\Users\\Zhaoxu Sui\\Documents\\GitHub\\GIS5571\\lab2\\Lab 2 Part 1\\PRISM\\PRISM_ppt_30yr_normal_4kmM2_10_bil.bil';'C:\\Users\\Zhaoxu Sui\\Documents\\GitHub\\GIS5571\\lab2\\Lab 2 Part 1\\PRISM\\PRISM_ppt_30yr_normal_4kmM2_11_bil.bil';'C:\\Users\\Zhaoxu Sui\\Documents\\GitHub\\GIS5571\\lab2\\Lab 2 Part 1\\PRISM\\PRISM_ppt_30yr_normal_4kmM2_12_bil.bil'\", r\"C:\\Users\\Zhaoxu Sui\\Documents\\GitHub\\GIS5571\\lab2\\Lab 2 Part 1\\PRISM\\TIFFS\", \"TIFF\")"
   ]
  },
  {
   "cell_type": "code",
   "execution_count": 34,
   "metadata": {},
   "outputs": [
    {
     "data": {
      "text/html": [
       "<h2>Output</h2>C:\\Users\\Zhaoxu Sui\\Documents\\GitHub\\GIS5571\\lab2\\Lab 2 Part 1\\Lab 2 Part 1.gdb\\Precip<h2>Messages</h2>Start Time: Tuesday, October 26, 2021 10:43:07 PM<br/>Succeeded at Tuesday, October 26, 2021 10:43:08 PM (Elapsed Time: 0.83 seconds)<br/><style>.rendered_html td, .rendered_html th {text-align: left;}.rendered_html tbody {border: 1px solid black;}</style>"
      ],
      "text/plain": [
       "<Result 'C:\\\\Users\\\\Zhaoxu Sui\\\\Documents\\\\GitHub\\\\GIS5571\\\\lab2\\\\Lab 2 Part 1\\\\Lab 2 Part 1.gdb\\\\Precip'>"
      ]
     },
     "execution_count": 34,
     "metadata": {},
     "output_type": "execute_result"
    }
   ],
   "source": [
    "#Create Mosaic Dataset\n",
    "arcpy.management.CreateMosaicDataset(r\"C:\\Users\\Zhaoxu Sui\\Documents\\GitHub\\GIS5571\\lab2\\Lab 2 Part 1\\Lab 2 Part 1.gdb\", \"Precip\", 'PROJCS[\"datum_D_North_American_1983_HARN_UTM_Zone_15N\",GEOGCS[\"GCS_datum_D_North_American_1983_HARN\",DATUM[\"D_unknown\",SPHEROID[\"GRS_1980\",6378137.0,298.257222101]],PRIMEM[\"Greenwich\",0.0],UNIT[\"Degree\",0.0174532925199433]],PROJECTION[\"Transverse_Mercator\"],PARAMETER[\"false_easting\",500000.0],PARAMETER[\"false_northing\",0.0],PARAMETER[\"central_meridian\",-93.0],PARAMETER[\"scale_factor\",0.9996],PARAMETER[\"latitude_of_origin\",0.0],UNIT[\"Meter\",1.0]]', None, '', \"NONE\", None)"
   ]
  },
  {
   "cell_type": "code",
   "execution_count": 38,
   "metadata": {},
   "outputs": [
    {
     "data": {
      "text/html": [
       "<h2>Output</h2>C:\\Users\\Zhaoxu Sui\\Documents\\GitHub\\GIS5571\\lab2\\Lab 2 Part 1\\Lab 2 Part 1.gdb\\Precip<h2>Messages</h2>Start Time: Tuesday, October 26, 2021 10:48:24 PM<br/>2021-10-26T22:48:24.741: Loading raster datasets<br/>2021-10-26T22:48:24.755: Completed crawling 12 data source items. Added 12 mosaic dataset items.<br/>2021-10-26T22:48:24.756: Synchronizing crawled data source items<br/>2021-10-26T22:48:24.761: Synchronizing items associated with raster type instance 'Raster Dataset' [ID: 2].<br/>2021-10-26T22:48:24.857: Completed synchronization: 12 items selected, 12 items synchronized.<br/>2021-10-26T22:48:24.862: Computing cell size levels<br/>2021-10-26T22:48:24.862: Computing unique cell size values<br/>2021-10-26T22:48:24.898: Computing maximum cell size values<br/>2021-10-26T22:48:24.903: Computing minimum cell size values<br/>2021-10-26T22:48:24.907: Updating visibility values of selected items<br/>2021-10-26T22:48:24.915: Computing maximum cell size for mosaic dataset<br/>2021-10-26T22:48:24.919: Completed computing cell size ranges.<br/>2021-10-26T22:48:24.935: Completed building boundary.<br/>Succeeded at Tuesday, October 26, 2021 10:48:25 PM (Elapsed Time: 0.94 seconds)<br/><style>.rendered_html td, .rendered_html th {text-align: left;}.rendered_html tbody {border: 1px solid black;}</style>"
      ],
      "text/plain": [
       "<Result 'C:\\\\Users\\\\Zhaoxu Sui\\\\Documents\\\\GitHub\\\\GIS5571\\\\lab2\\\\Lab 2 Part 1\\\\Lab 2 Part 1.gdb\\\\Precip'>"
      ]
     },
     "execution_count": 38,
     "metadata": {},
     "output_type": "execute_result"
    }
   ],
   "source": [
    "#Add Rasters to Mosaic Dataset\n",
    "arcpy.management.AddRastersToMosaicDataset(r\"C:\\Users\\Zhaoxu Sui\\Documents\\GitHub\\GIS5571\\lab2\\Lab 2 Part 1\\Lab 2 Part 1.gdb\\Precip\", \"Raster Dataset\", r\"'C:\\Users\\Zhaoxu Sui\\Documents\\GitHub\\GIS5571\\lab2\\Lab 2 Part 1\\PRISM\\TIFFS\\PRISM_ppt_30yr_normal_4kmM2_01_bil.tif';'C:\\Users\\Zhaoxu Sui\\Documents\\GitHub\\GIS5571\\lab2\\Lab 2 Part 1\\PRISM\\TIFFS\\PRISM_ppt_30yr_normal_4kmM2_02_bil.tif';'C:\\Users\\Zhaoxu Sui\\Documents\\GitHub\\GIS5571\\lab2\\Lab 2 Part 1\\PRISM\\TIFFS\\PRISM_ppt_30yr_normal_4kmM2_03_bil.tif';'C:\\Users\\Zhaoxu Sui\\Documents\\GitHub\\GIS5571\\lab2\\Lab 2 Part 1\\PRISM\\TIFFS\\PRISM_ppt_30yr_normal_4kmM2_04_bil.tif';'C:\\Users\\Zhaoxu Sui\\Documents\\GitHub\\GIS5571\\lab2\\Lab 2 Part 1\\PRISM\\TIFFS\\PRISM_ppt_30yr_normal_4kmM2_05_bil.tif';'C:\\Users\\Zhaoxu Sui\\Documents\\GitHub\\GIS5571\\lab2\\Lab 2 Part 1\\PRISM\\TIFFS\\PRISM_ppt_30yr_normal_4kmM2_06_bil.tif';'C:\\Users\\Zhaoxu Sui\\Documents\\GitHub\\GIS5571\\lab2\\Lab 2 Part 1\\PRISM\\TIFFS\\PRISM_ppt_30yr_normal_4kmM2_07_bil.tif';'C:\\Users\\Zhaoxu Sui\\Documents\\GitHub\\GIS5571\\lab2\\Lab 2 Part 1\\PRISM\\TIFFS\\PRISM_ppt_30yr_normal_4kmM2_08_bil.tif';'C:\\Users\\Zhaoxu Sui\\Documents\\GitHub\\GIS5571\\lab2\\Lab 2 Part 1\\PRISM\\TIFFS\\PRISM_ppt_30yr_normal_4kmM2_09_bil.tif';'C:\\Users\\Zhaoxu Sui\\Documents\\GitHub\\GIS5571\\lab2\\Lab 2 Part 1\\PRISM\\TIFFS\\PRISM_ppt_30yr_normal_4kmM2_10_bil.tif';'C:\\Users\\Zhaoxu Sui\\Documents\\GitHub\\GIS5571\\lab2\\Lab 2 Part 1\\PRISM\\TIFFS\\PRISM_ppt_30yr_normal_4kmM2_11_bil.tif';'C:\\Users\\Zhaoxu Sui\\Documents\\GitHub\\GIS5571\\lab2\\Lab 2 Part 1\\PRISM\\TIFFS\\PRISM_ppt_30yr_normal_4kmM2_12_bil.tif'\", \"UPDATE_CELL_SIZES\", \"UPDATE_BOUNDARY\", \"NO_OVERVIEWS\", None, 0, 1500, None, '', \"SUBFOLDERS\", \"ALLOW_DUPLICATES\", \"NO_PYRAMIDS\", \"NO_STATISTICS\", \"NO_THUMBNAILS\", '', \"NO_FORCE_SPATIAL_REFERENCE\", \"NO_STATISTICS\", None, \"NO_PIXEL_CACHE\", r\"C:\\Users\\Zhaoxu Sui\\AppData\\Local\\ESRI\\rasterproxies\\Precip\")"
   ]
  },
  {
   "cell_type": "code",
   "execution_count": 42,
   "metadata": {},
   "outputs": [
    {
     "data": {
      "text/html": [
       "<h2>Output</h2>a Layer object<h2>Messages</h2>Start Time: Tuesday, October 26, 2021 10:52:49 PM<br/>Succeeded at Tuesday, October 26, 2021 10:52:49 PM (Elapsed Time: 0.06 seconds)<br/><style>.rendered_html td, .rendered_html th {text-align: left;}.rendered_html tbody {border: 1px solid black;}</style>"
      ],
      "text/plain": [
       "<Result 'Precip\\\\Footprint'>"
      ]
     },
     "execution_count": 42,
     "metadata": {},
     "output_type": "execute_result"
    }
   ],
   "source": [
    "#Calculate Field\n",
    "arcpy.management.CalculateField(r\"Precip\\Footprint\", \"Variable\", '\"Precip Value\"', \"PYTHON3\", '', \"TEXT\", \"NO_ENFORCE_DOMAINS\")"
   ]
  },
  {
   "cell_type": "code",
   "execution_count": 43,
   "metadata": {},
   "outputs": [
    {
     "data": {
      "text/html": [
       "<h2>Output</h2>a Layer object<h2>Messages</h2>Start Time: Tuesday, October 26, 2021 10:52:50 PM<br/>Succeeded at Tuesday, October 26, 2021 10:52:50 PM (Elapsed Time: 0.06 seconds)<br/><style>.rendered_html td, .rendered_html th {text-align: left;}.rendered_html tbody {border: 1px solid black;}</style>"
      ],
      "text/plain": [
       "<Result 'Precip\\\\Footprint'>"
      ]
     },
     "execution_count": 43,
     "metadata": {},
     "output_type": "execute_result"
    }
   ],
   "source": [
    "#Calculate Field\n",
    "arcpy.management.CalculateField(r\"Precip\\Footprint\", \"Timestamp\", \"DateAdd(Date(1981,0,1), $feature.OBJECTID-1, 'year')\", \"ARCADE\", '', \"DATE\", \"NO_ENFORCE_DOMAINS\")"
   ]
  },
  {
   "cell_type": "code",
   "execution_count": 44,
   "metadata": {},
   "outputs": [
    {
     "data": {
      "text/html": [
       "<h2>Output</h2>a Layer object<h2>Messages</h2>Start Time: Tuesday, October 26, 2021 10:53:53 PM<br/>Succeeded at Tuesday, October 26, 2021 10:53:54 PM (Elapsed Time: 0.70 seconds)<br/><style>.rendered_html td, .rendered_html th {text-align: left;}.rendered_html tbody {border: 1px solid black;}</style>"
      ],
      "text/plain": [
       "<Result 'Precip'>"
      ]
     },
     "execution_count": 44,
     "metadata": {},
     "output_type": "execute_result"
    }
   ],
   "source": [
    "#Build Multidimensional Info\n",
    "arcpy.md.BuildMultidimensionalInfo(\"Precip\", \"Variable\", \"Timestamp # #\", None, \"NO_DELETE_MULTIDIMENSIONAL_INFO\")"
   ]
  },
  {
   "cell_type": "code",
   "execution_count": 46,
   "metadata": {},
   "outputs": [
    {
     "data": {
      "text/html": [
       "<h2>Output</h2>a Layer object<h2>Messages</h2>Start Time: Tuesday, October 26, 2021 10:56:16 PM<br/>Succeeded at Tuesday, October 26, 2021 10:56:16 PM (Elapsed Time: 0.63 seconds)<br/><style>.rendered_html td, .rendered_html th {text-align: left;}.rendered_html tbody {border: 1px solid black;}</style>"
      ],
      "text/plain": [
       "<Result 'Precip_MultidimLayer'>"
      ]
     },
     "execution_count": 46,
     "metadata": {},
     "output_type": "execute_result"
    }
   ],
   "source": [
    "#Make Multidimensional Raster Layer\n",
    "arcpy.md.MakeMultidimensionalRasterLayer(\"Precip\", \"Precip_MultidimLayer\", \"'Precip Value'\", \"ALL\", None, None, '', '', '', None, '', \"-2871587.5494 2660354.42205404 3264899.3805797 6041683.9549\", \"DIMENSIONS\")"
   ]
  },
  {
   "cell_type": "code",
   "execution_count": 48,
   "metadata": {},
   "outputs": [],
   "source": [
    "#Create .NC File\n",
    "import netCDF4 as nc\n",
    "import numpy as np\n",
    "\n",
    "fn = r'C:\\Users\\Zhaoxu Sui\\Documents\\GitHub\\GIS5571\\lab2\\Lab 2 Part 1\\Precip.nc'\n",
    "ds = nc.Dataset(fn, 'w', format='NETCDF4')"
   ]
  },
  {
   "cell_type": "code",
   "execution_count": 1,
   "metadata": {},
   "outputs": [
    {
     "data": {
      "text/html": [
       "<h2>Output</h2>C:\\Users\\Zhaoxu Sui\\Documents\\GitHub\\GIS5571\\lab2\\Lab 2 Part 1\\Precip.nc<h2>Messages</h2>Start Time: Tuesday, October 26, 2021 11:03:35 PM<br/>WARNING 110013: The default Time Step Interval is 1 year.<br/>The space time cube has aggregated 1221238060 points into 964467 fishnet grid locations over 37 time step intervals.  Each location is a 4638.31 meters by 4638.31 meters square.  The entire space time cube spans an area 6136486.93 meters west to east and 3381329.53 meters north to south.  Each of the time step intervals is 1 year in duration so the entire time period covered by the space time cube is 37 years.  Of the 964467 total locations, 384562 (39.87%) contain at least one point for at least one time step interval.  These 384562 locations comprise 14228794 space time bins of which 35685279 (250.80%) have point counts greater than zero.  There is not a statistically significant increase or decrease in point counts over time.<br/>json:<br/>[{\"element\": \"table\", \"data\": [[{\"data\": \"Input feature time extent\", \"prop\": {\"rowspan\": 2}}, \"1981-01-01 06:00:00\"], [{\"data\": \"to 2017-01-01 06:00:00\", \"prop\": {\"text-align\": \"right\"}}], [\"\", \"\"], [\"Number of time steps\", \"37\"], [\"Time step interval\", \"1 year\"], [\"Time step alignment\", \"End\"], [\"\", \"\"], [\"First time step temporal bias\", \"100.00%\"], [{\"data\": \"First time step interval\", \"prop\": {\"rowspan\": 4}}, \"after\"], [{\"data\": \"1980-01-01 06:00:00\", \"prop\": {\"text-align\": \"right\"}}], [{\"data\": \"to on or before\", \"prop\": {\"text-align\": \"right\"}}], [{\"data\": \"1981-01-01 06:00:00\", \"prop\": {\"text-align\": \"right\"}}], [\"\", \"\"], [\"Last time step temporal bias\", \"0.00%\"], [{\"data\": \"Last time step interval\", \"prop\": {\"rowspan\": 4}}, \"after\"], [{\"data\": \"2016-01-01 06:00:00\", \"prop\": {\"text-align\": \"right\"}}], [{\"data\": \"to on or before\", \"prop\": {\"text-align\": \"right\"}}], [{\"data\": \"2017-01-01 06:00:00\", \"prop\": {\"text-align\": \"right\"}}], [\"\", \"\"], [\"Cube extent across space\", \"(coordinates in meters)\"], [\"Min X\", \"-2871587.5494\"], [\"Min Y\", \"2660354.4221\"], [\"Max X\", \"3264899.3806\"], [\"Max Y\", \"6041683.9549\"], [\"Rows\", \"729\"], [\"Columns\", \"1323\"], [\"Total bins\", \"35685279\"]], \"elementProps\": {\"striped\": \"true\", \"noHeader\": true, \"title\": \"Space Time Cube Characteristics\", \"0\": {\"align\": \"left\", \"pad\": \"0px\", \"wrap\": true}, \"1\": {\"align\": \"right\", \"pad\": \"0px\", \"wrap\": true}}}]<br/>json:<br/>[{\"element\": \"table\", \"data\": [[\"Trend direction\", \"Not Significant\"], [\"Trend statistic\", \"-0.0656\"], [\"Trend p-value\", \"0.9477\"]], \"elementProps\": {\"striped\": \"true\", \"noHeader\": true, \"title\": \"Overall Data Trend - PRECIP VALUE_NONE_ZEROS\", \"0\": {\"align\": \"left\", \"pad\": \"0px\", \"wrap\": true}, \"1\": {\"align\": \"right\", \"pad\": \"0px\", \"wrap\": true}}}]<br/>Succeeded at Tuesday, October 26, 2021 11:03:54 PM (Elapsed Time: 19.48 seconds)<br/><style>.rendered_html td, .rendered_html th {text-align: left;}.rendered_html tbody {border: 1px solid black;}</style>"
      ],
      "text/plain": [
       "<Result 'C:\\\\Users\\\\Zhaoxu Sui\\\\Documents\\\\GitHub\\\\GIS5571\\\\lab2\\\\Lab 2 Part 1\\\\Precip.nc'>"
      ]
     },
     "execution_count": 1,
     "metadata": {},
     "output_type": "execute_result"
    }
   ],
   "source": [
    "#Create Space Time Cube From Multidimensional Raster Layer\n",
    "arcpy.stpm.CreateSpaceTimeCubeMDRasterLayer(\"Precip_MultidimLayer\", r\"C:\\Users\\Zhaoxu Sui\\Documents\\GitHub\\GIS5571\\lab2\\Lab 2 Part 1\\Precip.nc\", \"ZEROS\")"
   ]
  },
  {
   "cell_type": "code",
   "execution_count": null,
   "metadata": {},
   "outputs": [],
   "source": []
  }
 ],
 "metadata": {
  "kernelspec": {
   "display_name": "ArcGISPro",
   "language": "Python",
   "name": "python3"
  },
  "language_info": {
   "file_extension": ".py",
   "name": "python",
   "version": "3"
  }
 },
 "nbformat": 4,
 "nbformat_minor": 2
}
