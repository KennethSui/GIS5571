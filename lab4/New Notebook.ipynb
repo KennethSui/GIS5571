{
 "cells": [
  {
   "cell_type": "markdown",
   "metadata": {},
   "source": [
    "# Request NDAWN Data"
   ]
  },
  {
   "cell_type": "code",
   "execution_count": 12,
   "metadata": {},
   "outputs": [
    {
     "name": "stdout",
     "output_type": "stream",
     "text": [
      "Request successful\n"
     ]
    }
   ],
   "source": [
    "import pandas as pd\n",
    "import requests\n",
    "from datetime import date\n",
    "from io import StringIO\n",
    "\n",
    "class ndawn_request:\n",
    "\n",
    "    def __init__(self, startDate='YYYY-MM-DD', endDate='YYYY-MM-DD', ontology = None, location = None, save = False):\n",
    "\n",
    "        self.start = startDate\n",
    "\n",
    "        self.end = endDate\n",
    "\n",
    "        # List of ontology terms, and their URL codes to build request URL\n",
    "        self.ontology = {\n",
    "            'Air Temperature': ['variable=hdt', 'variable=hdt9'],\n",
    "            'Relative Humidity': ['variable=hdrh', 'variable=hdrh9'],\n",
    "            'Soil Temperature': ['variable=hdbst', 'variable=hdtst'],\n",
    "            'Wind Speed': ['variable=hdws', 'variable=hdmxws', 'variable=hdws10', 'variable=hdmxws10'],\n",
    "            'Wind Direction': ['variable=hdwd', 'variable=hdsdwd', '&variable=hdwd10', 'variable=hdsdwd10'],\n",
    "            'Solar Radiation': ['variable=hdsr'],\n",
    "            'Rainfall': ['variable=hdr'],\n",
    "            'Air Pressure': ['variable=hdbp'],\n",
    "            'Dew Point': ['variable=hddp'],\n",
    "            'Wind Chill': ['variable=hdwc']\n",
    "        }\n",
    "        # Concatenate the ontology keys into a list for exception printout later\n",
    "        ontologiesErrorMessage = '\\n'.join(list(self.ontology.keys()))\n",
    "\n",
    "        # List of stations, and URL codes to build request URL\n",
    "        self.stations = {\n",
    "            'Ada': 78,\n",
    "            'Becker': 118,\n",
    "            'Campbell': 87,\n",
    "            'Clarissa': 124,\n",
    "            'Eldred': 2,\n",
    "            'Fox': 93,\n",
    "            'Greenbush': 70,\n",
    "            'Hubbard': 119,\n",
    "            'Humboldt': 4,\n",
    "            'Kennedy': 82,\n",
    "            'Little Falls': 120,\n",
    "            'Mavie': 71,\n",
    "            'Ottertail': 103,\n",
    "            'Parkers Prairie': 116,\n",
    "            'Perham': 114,\n",
    "            'Perley': 3,\n",
    "            'Pine Point': 115,\n",
    "            'Rice': 121,\n",
    "            'Roseau': 61,\n",
    "            'Sabin': 60,\n",
    "            'Staples': 122,\n",
    "            'Stephen': 5,\n",
    "            'Ulen': 91,\n",
    "            'Wadena': 117,\n",
    "            'Warren': 6,\n",
    "            'Waukon': 92,\n",
    "            'Westport': 123,\n",
    "            'Williams': 95\n",
    "        }\n",
    "        # Concatenate station names into a list for exception printout later\n",
    "        stationsErrorMessage = '\\n'.join(list(self.stations.keys()))\n",
    "\n",
    "        self.save = save\n",
    "\n",
    "        # This checks the start and end dates supplied to make sure they are valid\n",
    "        # Start by converting dates into iso format\n",
    "        startDateCheck = date.fromisoformat(startDate)\n",
    "        endDateCheck = date.fromisoformat(endDate)\n",
    "        # If start date is after end date, raise exception\n",
    "        if startDateCheck > endDateCheck:\n",
    "            raise Exception('End date cannot be before start date')\n",
    "        \n",
    "        # Create empty list to hold URL codes for ontology terms\n",
    "        self.activeMeasures = []\n",
    "        # If user supplies ontology terms\n",
    "        if ontology is not None:\n",
    "            for item in ontology:\n",
    "                # If user-supplied term is not in the dictionary, raise exception\n",
    "                if item not in self.ontology.keys():\n",
    "                    raise Exception('Ontology term [' + str(item) + '] not recognized. Available ontology terms include: ' + '\\n' + ontologiesErrorMessage)\n",
    "                # Otherwise, append URL codes for ontology terms into the list of measurements to be requested\n",
    "                else:\n",
    "                    for code in self.ontology[item]:\n",
    "                        self.activeMeasures.append(code)  \n",
    "        # If user does not supply ontology terms, add all URL codes in dictionary to the list of measurements to be requested    \n",
    "        else:\n",
    "            for key in self.ontology:\n",
    "                for code in self.ontology[key]:\n",
    "                    self.activeMeasures.append(code)\n",
    "\n",
    "        # Create empty list to hold URL codes for stations\n",
    "        self.activeStations = []\n",
    "        # If user supplies station names\n",
    "        if location is not None:\n",
    "            for name in location:\n",
    "                # If user-supplied name is not in the dictionary, raise exception\n",
    "                if name not in self.stations.keys():\n",
    "                    raise Exception('Station [' + str(name) + '] not recognized. Available stations include: ' + '\\n' + stationsErrorMessage)\n",
    "                # Otherwise, append URL codes for stations into the list of stations to be requested\n",
    "                else:\n",
    "                    self.activeStations.append('station=' + str(self.stations[name]))\n",
    "        # If user does not supply station names, add all station URL codes in dictionary to the list of stations to be requested\n",
    "        else:    \n",
    "            for key in self.stations:\n",
    "                self.activeStations.append('station=' + str(self.stations[key]))\n",
    "\n",
    "    def get_data(self):\n",
    "        \n",
    "        # Construct API call for the request\n",
    "        baseURL = 'https://ndawn.ndsu.nodak.edu/table.csv?'\n",
    "        stations = '&'.join(self.activeStations)\n",
    "        measurements = '&'.join(self.activeMeasures)\n",
    "        options = '&ttype=hourly&quick_pick=&begin_date=' + self.start + '&end_date=' + self.end\n",
    "        finalURL = str(baseURL + stations + '&' + measurements + options)\n",
    "        \n",
    "        # Request page\n",
    "        page = requests.get(finalURL)\n",
    "        # If status code not 200, raise exception\n",
    "        if page.status_code != 200:\n",
    "            raise Exception('URL request status not 200. Status code = ' + page.status_code)\n",
    "\n",
    "        print('Request successful')\n",
    "\n",
    "        # Convert csv data to string\n",
    "        content = str(page.content)\n",
    "        # Remove large, unnecessary header\n",
    "        trimContent = content[content.find('Station'):len(content)]\n",
    "        # Replace newline/return with string literal newline\n",
    "        formatContent = trimContent.replace('\\\\r\\\\n', '\\n')\n",
    "        # Convert content to file object\n",
    "        contentFile = StringIO(formatContent)\n",
    "\n",
    "        # Read content into pandas dataframe. Second header row contains units\n",
    "        ndawnData = pd.read_csv(contentFile, header = [0, 1])\n",
    "        \n",
    "        # Concatenate headers to include units\n",
    "        # Assign column list to object\n",
    "        columnHeaders = list(ndawnData.columns)\n",
    "        # List of new headers\n",
    "        newHeaderList = []\n",
    "        # Iterate through column names\n",
    "        for number in range(0, len(columnHeaders)):\n",
    "            # If no unit, keep header unchanged, pass into new list\n",
    "            if 'Unnamed' in columnHeaders[number][1]:\n",
    "                newHeaderList.append(columnHeaders[number][0])\n",
    "            # If unit exists, concatenate header and unit, pass into new list\n",
    "            else:\n",
    "                newHeader = columnHeaders[number][0] + ' (' + columnHeaders[number][1] + ') '\n",
    "                newHeaderList.append(newHeader)\n",
    "        # Assign new column names\n",
    "        ndawnData.columns = newHeaderList\n",
    "\n",
    "        # Create single column for datetime\n",
    "        ndawnData['Date'] = pd.to_datetime(ndawnData[['Year', 'Month', 'Day']])\n",
    "        \n",
    "        # Save to csv if save option selected\n",
    "        if self.save:\n",
    "            ndawnData.to_csv('ndawnData.csv', index=False)\n",
    "\n",
    "        return ndawnData\n",
    "    \n",
    "\n",
    "Request = ndawn_request(startDate='2021-10-24', endDate='2021-11-20', ontology=['Air Temperature'], location=['Ada','Becker','Campbell','Clarissa','Eldred','Fox','Greenbush','Hubbard','Humboldt','Kennedy','Little Falls','Mavie','Ottertail','Parkers Prairie','Perham','Perley','Pine Point','Rice','Roseau','Sabin','Staples','Stephen','Ulen','Wadena','Warren','Waukon','Westport','Williams'])\n",
    "ndawnDF = Request.get_data()"
   ]
  },
  {
   "cell_type": "code",
   "execution_count": 13,
   "metadata": {},
   "outputs": [
    {
     "data": {
      "text/html": [
       "<div>\n",
       "<style scoped>\n",
       "    .dataframe tbody tr th:only-of-type {\n",
       "        vertical-align: middle;\n",
       "    }\n",
       "\n",
       "    .dataframe tbody tr th {\n",
       "        vertical-align: top;\n",
       "    }\n",
       "\n",
       "    .dataframe thead th {\n",
       "        text-align: right;\n",
       "    }\n",
       "</style>\n",
       "<table border=\"1\" class=\"dataframe\">\n",
       "  <thead>\n",
       "    <tr style=\"text-align: right;\">\n",
       "      <th></th>\n",
       "      <th>Station Name</th>\n",
       "      <th>Latitude (deg)</th>\n",
       "      <th>Longitude (deg)</th>\n",
       "      <th>Elevation (ft)</th>\n",
       "      <th>Year</th>\n",
       "      <th>Month</th>\n",
       "      <th>Day</th>\n",
       "      <th>Hour (CST)</th>\n",
       "      <th>Avg Air Temp (Degrees F)</th>\n",
       "      <th>Avg Air Temp Flag</th>\n",
       "      <th>Avg Air Temp at 9 m (Degrees F)</th>\n",
       "      <th>Avg Air Temp at 9 m Flag</th>\n",
       "      <th>Date</th>\n",
       "    </tr>\n",
       "  </thead>\n",
       "  <tbody>\n",
       "    <tr>\n",
       "      <th>0</th>\n",
       "      <td>Ada</td>\n",
       "      <td>47.321100</td>\n",
       "      <td>-96.513900</td>\n",
       "      <td>910.0</td>\n",
       "      <td>2021.0</td>\n",
       "      <td>10.0</td>\n",
       "      <td>24.0</td>\n",
       "      <td>100.0</td>\n",
       "      <td>28.756</td>\n",
       "      <td>NaN</td>\n",
       "      <td>NaN</td>\n",
       "      <td>NaN</td>\n",
       "      <td>2021-10-24</td>\n",
       "    </tr>\n",
       "    <tr>\n",
       "      <th>1</th>\n",
       "      <td>Ada</td>\n",
       "      <td>47.321100</td>\n",
       "      <td>-96.513900</td>\n",
       "      <td>910.0</td>\n",
       "      <td>2021.0</td>\n",
       "      <td>10.0</td>\n",
       "      <td>24.0</td>\n",
       "      <td>200.0</td>\n",
       "      <td>29.043</td>\n",
       "      <td>NaN</td>\n",
       "      <td>NaN</td>\n",
       "      <td>NaN</td>\n",
       "      <td>2021-10-24</td>\n",
       "    </tr>\n",
       "    <tr>\n",
       "      <th>2</th>\n",
       "      <td>Ada</td>\n",
       "      <td>47.321100</td>\n",
       "      <td>-96.513900</td>\n",
       "      <td>910.0</td>\n",
       "      <td>2021.0</td>\n",
       "      <td>10.0</td>\n",
       "      <td>24.0</td>\n",
       "      <td>300.0</td>\n",
       "      <td>29.385</td>\n",
       "      <td>NaN</td>\n",
       "      <td>NaN</td>\n",
       "      <td>NaN</td>\n",
       "      <td>2021-10-24</td>\n",
       "    </tr>\n",
       "    <tr>\n",
       "      <th>3</th>\n",
       "      <td>Ada</td>\n",
       "      <td>47.321100</td>\n",
       "      <td>-96.513900</td>\n",
       "      <td>910.0</td>\n",
       "      <td>2021.0</td>\n",
       "      <td>10.0</td>\n",
       "      <td>24.0</td>\n",
       "      <td>400.0</td>\n",
       "      <td>31.113</td>\n",
       "      <td>NaN</td>\n",
       "      <td>NaN</td>\n",
       "      <td>NaN</td>\n",
       "      <td>2021-10-24</td>\n",
       "    </tr>\n",
       "    <tr>\n",
       "      <th>4</th>\n",
       "      <td>Ada</td>\n",
       "      <td>47.321100</td>\n",
       "      <td>-96.513900</td>\n",
       "      <td>910.0</td>\n",
       "      <td>2021.0</td>\n",
       "      <td>10.0</td>\n",
       "      <td>24.0</td>\n",
       "      <td>500.0</td>\n",
       "      <td>32.153</td>\n",
       "      <td>NaN</td>\n",
       "      <td>NaN</td>\n",
       "      <td>NaN</td>\n",
       "      <td>2021-10-24</td>\n",
       "    </tr>\n",
       "    <tr>\n",
       "      <th>...</th>\n",
       "      <td>...</td>\n",
       "      <td>...</td>\n",
       "      <td>...</td>\n",
       "      <td>...</td>\n",
       "      <td>...</td>\n",
       "      <td>...</td>\n",
       "      <td>...</td>\n",
       "      <td>...</td>\n",
       "      <td>...</td>\n",
       "      <td>...</td>\n",
       "      <td>...</td>\n",
       "      <td>...</td>\n",
       "      <td>...</td>\n",
       "    </tr>\n",
       "    <tr>\n",
       "      <th>18812</th>\n",
       "      <td>Williams</td>\n",
       "      <td>48.858454</td>\n",
       "      <td>-94.980897</td>\n",
       "      <td>1093.0</td>\n",
       "      <td>2021.0</td>\n",
       "      <td>11.0</td>\n",
       "      <td>20.0</td>\n",
       "      <td>2100.0</td>\n",
       "      <td>27.527</td>\n",
       "      <td>NaN</td>\n",
       "      <td>NaN</td>\n",
       "      <td>NaN</td>\n",
       "      <td>2021-11-20</td>\n",
       "    </tr>\n",
       "    <tr>\n",
       "      <th>18813</th>\n",
       "      <td>Williams</td>\n",
       "      <td>48.858454</td>\n",
       "      <td>-94.980897</td>\n",
       "      <td>1093.0</td>\n",
       "      <td>2021.0</td>\n",
       "      <td>11.0</td>\n",
       "      <td>20.0</td>\n",
       "      <td>2200.0</td>\n",
       "      <td>27.385</td>\n",
       "      <td>NaN</td>\n",
       "      <td>NaN</td>\n",
       "      <td>NaN</td>\n",
       "      <td>2021-11-20</td>\n",
       "    </tr>\n",
       "    <tr>\n",
       "      <th>18814</th>\n",
       "      <td>Williams</td>\n",
       "      <td>48.858454</td>\n",
       "      <td>-94.980897</td>\n",
       "      <td>1093.0</td>\n",
       "      <td>2021.0</td>\n",
       "      <td>11.0</td>\n",
       "      <td>20.0</td>\n",
       "      <td>2300.0</td>\n",
       "      <td>28.926</td>\n",
       "      <td>NaN</td>\n",
       "      <td>NaN</td>\n",
       "      <td>NaN</td>\n",
       "      <td>2021-11-20</td>\n",
       "    </tr>\n",
       "    <tr>\n",
       "      <th>18815</th>\n",
       "      <td>Williams</td>\n",
       "      <td>48.858454</td>\n",
       "      <td>-94.980897</td>\n",
       "      <td>1093.0</td>\n",
       "      <td>2021.0</td>\n",
       "      <td>11.0</td>\n",
       "      <td>20.0</td>\n",
       "      <td>2400.0</td>\n",
       "      <td>30.034</td>\n",
       "      <td>NaN</td>\n",
       "      <td>NaN</td>\n",
       "      <td>NaN</td>\n",
       "      <td>2021-11-20</td>\n",
       "    </tr>\n",
       "    <tr>\n",
       "      <th>18816</th>\n",
       "      <td>'</td>\n",
       "      <td>NaN</td>\n",
       "      <td>NaN</td>\n",
       "      <td>NaN</td>\n",
       "      <td>NaN</td>\n",
       "      <td>NaN</td>\n",
       "      <td>NaN</td>\n",
       "      <td>NaN</td>\n",
       "      <td>NaN</td>\n",
       "      <td>NaN</td>\n",
       "      <td>NaN</td>\n",
       "      <td>NaN</td>\n",
       "      <td>NaT</td>\n",
       "    </tr>\n",
       "  </tbody>\n",
       "</table>\n",
       "<p>18817 rows × 13 columns</p>\n",
       "</div>"
      ],
      "text/plain": [
       "      Station Name  Latitude (deg)   ...  Avg Air Temp at 9 m Flag       Date\n",
       "0              Ada        47.321100  ...                       NaN 2021-10-24\n",
       "1              Ada        47.321100  ...                       NaN 2021-10-24\n",
       "2              Ada        47.321100  ...                       NaN 2021-10-24\n",
       "3              Ada        47.321100  ...                       NaN 2021-10-24\n",
       "4              Ada        47.321100  ...                       NaN 2021-10-24\n",
       "...            ...              ...  ...                       ...        ...\n",
       "18812     Williams        48.858454  ...                       NaN 2021-11-20\n",
       "18813     Williams        48.858454  ...                       NaN 2021-11-20\n",
       "18814     Williams        48.858454  ...                       NaN 2021-11-20\n",
       "18815     Williams        48.858454  ...                       NaN 2021-11-20\n",
       "18816            '              NaN  ...                       NaN        NaT\n",
       "\n",
       "[18817 rows x 13 columns]"
      ]
     },
     "execution_count": 13,
     "metadata": {},
     "output_type": "execute_result"
    }
   ],
   "source": [
    "ndawnDF"
   ]
  },
  {
   "cell_type": "code",
   "execution_count": 15,
   "metadata": {},
   "outputs": [],
   "source": [
    "ndawnDF.to_csv('Temperature.csv', index=False)"
   ]
  },
  {
   "cell_type": "markdown",
   "metadata": {},
   "source": [
    "# Import Data and Calculate the Sum"
   ]
  },
  {
   "cell_type": "code",
   "execution_count": 17,
   "metadata": {},
   "outputs": [],
   "source": [
    "with arcpy.EnvManager(scratchWorkspace=r\"C:\\Users\\Zhaoxu Sui\\Documents\\GitHub\\GIS5571\\lab4\\Lab4\\Lab4.gdb\", workspace=r\"C:\\Users\\Zhaoxu Sui\\Documents\\GitHub\\GIS5571\\lab4\\Lab4\\Lab4.gdb\"):\n",
    "    arcpy.defense.CoordinateTableToPoint(r\"C:\\Users\\Zhaoxu Sui\\Documents\\GitHub\\GIS5571\\lab4\\Lab4\\Temperature.csv\", r\"C:\\Users\\Zhaoxu Sui\\Documents\\GitHub\\GIS5571\\lab4\\Lab4\\Lab4.gdb\\Temperature\", \"Longitude (deg)\", \"DD_2\", \"Latitude (deg)\", None)"
   ]
  },
  {
   "cell_type": "code",
   "execution_count": 19,
   "metadata": {},
   "outputs": [
    {
     "data": {
      "text/html": [
       "<div class='gpresult'><h2>Messages</h2><div id='messages' data-messages='[\"Start Time: Thursday, December 2, 2021 2:20:24 PM\",\"Sorting Attributes...\",\"Dissolving...\",\"Succeeded at Thursday, December 2, 2021 2:20:24 PM (Elapsed Time: 0.34 seconds)\"]' data-show='true'><div id = 'default' /></div></div>"
      ],
      "text/plain": [
       "<Result 'C:\\\\Users\\\\Zhaoxu Sui\\\\Documents\\\\GitHub\\\\GIS5571\\\\lab4\\\\Lab4\\\\Lab4.gdb\\\\Mean_Temp'>"
      ]
     },
     "execution_count": 19,
     "metadata": {},
     "output_type": "execute_result"
    }
   ],
   "source": [
    "arcpy.analysis.PairwiseDissolve(\"Temperature\", r\"C:\\Users\\Zhaoxu Sui\\Documents\\GitHub\\GIS5571\\lab4\\Lab4\\Lab4.gdb\\Mean_Temp\", \"Station_Name\", \"Station_Name FIRST;Avg_Air_Temp__Degrees_F_ MEAN\", \"MULTI_PART\")"
   ]
  },
  {
   "cell_type": "markdown",
   "metadata": {},
   "source": [
    "# Interpolation Methods"
   ]
  },
  {
   "cell_type": "markdown",
   "metadata": {},
   "source": [
    "## IDW"
   ]
  },
  {
   "cell_type": "code",
   "execution_count": 21,
   "metadata": {},
   "outputs": [
    {
     "data": {
      "text/html": [
       "<div class='gpresult'><h2>Messages</h2><div id='messages' data-messages='[\"Start Time: Thursday, December 2, 2021 2:22:48 PM\",\"Succeeded at Thursday, December 2, 2021 2:22:49 PM (Elapsed Time: 0.66 seconds)\"]' data-show='true'><div id = 'default' /></div></div>"
      ],
      "text/plain": [
       "<Result 'C:\\\\Users\\\\Zhaoxu Sui\\\\Documents\\\\GitHub\\\\GIS5571\\\\lab4\\\\Lab4\\\\Lab4.gdb\\\\IDW_Temp'>"
      ]
     },
     "execution_count": 21,
     "metadata": {},
     "output_type": "execute_result"
    }
   ],
   "source": [
    "arcpy.ddd.Idw(\"Mean_Temp\", \"MEAN_Avg_Air_Temp__Degrees_F_\", r\"C:\\Users\\Zhaoxu Sui\\Documents\\GitHub\\GIS5571\\lab4\\Lab4\\Lab4.gdb\\IDW_Temp\", 0.0132, 1, \"VARIABLE 12\", None)"
   ]
  },
  {
   "cell_type": "markdown",
   "metadata": {},
   "source": [
    "## Kriging"
   ]
  },
  {
   "cell_type": "code",
   "execution_count": 22,
   "metadata": {},
   "outputs": [
    {
     "data": {
      "text/html": [
       "<div class='gpresult'><h2>Messages</h2><div id='messages' data-messages='[\"Start Time: Thursday, December 2, 2021 2:23:38 PM\",\"SPHERICAL\\nLag size\\t\\t= nan(snan)\\nPartial sill\\t= nan(snan)\\nNugget\\t\\t= nan(snan)\\nMajor range\\t= nan(snan)\",\"Succeeded at Thursday, December 2, 2021 2:23:39 PM (Elapsed Time: 0.53 seconds)\"]' data-show='true'><div id = 'default' /></div></div>"
      ],
      "text/plain": [
       "<Result 'C:\\\\Users\\\\Zhaoxu Sui\\\\Documents\\\\GitHub\\\\GIS5571\\\\lab4\\\\Lab4\\\\Lab4.gdb\\\\Kriging_Temp'>"
      ]
     },
     "execution_count": 22,
     "metadata": {},
     "output_type": "execute_result"
    }
   ],
   "source": [
    "arcpy.ddd.Kriging(\"Mean_Temp\", \"MEAN_Avg_Air_Temp__Degrees_F_\", r\"C:\\Users\\Zhaoxu Sui\\Documents\\GitHub\\GIS5571\\lab4\\Lab4\\Lab4.gdb\\Kriging_Temp\", \"Spherical # # # #\", 0.0132, \"VARIABLE 12\", None)"
   ]
  },
  {
   "cell_type": "markdown",
   "metadata": {},
   "source": [
    "## Spline"
   ]
  },
  {
   "cell_type": "code",
   "execution_count": 23,
   "metadata": {},
   "outputs": [
    {
     "data": {
      "text/html": [
       "<div class='gpresult'><h2>Messages</h2><div id='messages' data-messages='[\"Start Time: Thursday, December 2, 2021 2:24:30 PM\",\"Succeeded at Thursday, December 2, 2021 2:24:31 PM (Elapsed Time: 0.58 seconds)\"]' data-show='true'><div id = 'default' /></div></div>"
      ],
      "text/plain": [
       "<Result 'C:\\\\Users\\\\Zhaoxu Sui\\\\Documents\\\\GitHub\\\\GIS5571\\\\lab4\\\\Lab4\\\\Lab4.gdb\\\\Spline_Temp'>"
      ]
     },
     "execution_count": 23,
     "metadata": {},
     "output_type": "execute_result"
    }
   ],
   "source": [
    "arcpy.ddd.Spline(\"Mean_Temp\", \"MEAN_Avg_Air_Temp__Degrees_F_\", r\"C:\\Users\\Zhaoxu Sui\\Documents\\GitHub\\GIS5571\\lab4\\Lab4\\Lab4.gdb\\Spline_Temp\", 0.0132, \"REGULARIZED\", 0.1, 12)"
   ]
  },
  {
   "cell_type": "code",
   "execution_count": null,
   "metadata": {},
   "outputs": [],
   "source": []
  }
 ],
 "metadata": {
  "kernelspec": {
   "display_name": "ArcGISPro",
   "language": "Python",
   "name": "python3"
  },
  "language_info": {
   "file_extension": ".py",
   "name": "python",
   "version": "3"
  }
 },
 "nbformat": 4,
 "nbformat_minor": 2
}
