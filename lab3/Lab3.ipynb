{
 "cells": [
  {
   "cell_type": "markdown",
   "metadata": {},
   "source": [
    "# Import Resources"
   ]
  },
  {
   "cell_type": "code",
   "execution_count": 2,
   "metadata": {},
   "outputs": [],
   "source": [
    "#Import packages\n",
    "\n",
    "import requests\n",
    "import json\n",
    "import pprint\n",
    "import zipfile"
   ]
  },
  {
   "cell_type": "code",
   "execution_count": 3,
   "metadata": {},
   "outputs": [],
   "source": [
    "packages = \"https://gisdata.mn.gov/api/3/action/package_list\"\n",
    "groups = \"https://gisdata.mn.gov/api/3/action/group_list\"\n",
    "tags = \"https://gisdata.mn.gov/api/3/action/tag_list\""
   ]
  },
  {
   "cell_type": "code",
   "execution_count": 4,
   "metadata": {},
   "outputs": [
    {
     "name": "stderr",
     "output_type": "stream",
     "text": [
      "C:\\Program Files\\ArcGIS\\Pro\\bin\\Python\\envs\\arcgispro-py3\\lib\\site-packages\\urllib3\\connectionpool.py:1020: InsecureRequestWarning: Unverified HTTPS request is being made to host 'gisdata.mn.gov'. Adding certificate verification is strongly advised. See: https://urllib3.readthedocs.io/en/1.26.x/advanced-usage.html#ssl-warnings\n",
      "  InsecureRequestWarning,\n"
     ]
    }
   ],
   "source": [
    "response = requests.get(tags, auth=('user', 'pass'), verify = False)"
   ]
  },
  {
   "cell_type": "markdown",
   "metadata": {},
   "source": [
    "# Downloading and Importing Data"
   ]
  },
  {
   "cell_type": "code",
   "execution_count": 5,
   "metadata": {},
   "outputs": [
    {
     "name": "stdout",
     "output_type": "stream",
     "text": [
      "extracting the content...\n"
     ]
    }
   ],
   "source": [
    "#Downloading data\n",
    "r = requests.get(\"https://resources.gisdata.mn.gov/pub/gdrs/data/pub/edu_umn/base_landcover_minnesota/tif_base_landcover_minnesota.zip\")\n",
    "open('tif_base_landcover_minnesota.zip','wb').write(r.content)\n",
    "print(\"extracting the content...\")\n",
    "with zipfile.ZipFile('tif_base_landcover_minnesota.zip','r') as zip_ref:\n",
    "    zip_ref.extractall(r'C:\\Users\\Zhaoxu Sui\\Documents\\GitHub\\GIS5571\\lab3\\Lab3')"
   ]
  },
  {
   "cell_type": "code",
   "execution_count": 5,
   "metadata": {},
   "outputs": [
    {
     "name": "stdout",
     "output_type": "stream",
     "text": [
      "extracting the content...\n"
     ]
    }
   ],
   "source": [
    "r = requests.get(\"https://resources.gisdata.mn.gov/pub/gdrs/data/pub/us_mn_state_dnr/bdry_dnr_lrs_prk/shp_bdry_dnr_lrs_prk.zip\")\n",
    "open('shp_bdry_dnr_lrs_prk.zip','wb').write(r.content)\n",
    "print(\"extracting the content...\")\n",
    "with zipfile.ZipFile('shp_bdry_dnr_lrs_prk.zip','r') as zip_ref:\n",
    "    zip_ref.extractall(r'C:\\Users\\Zhaoxu Sui\\Documents\\GitHub\\GIS5571\\lab3\\Lab3')"
   ]
  },
  {
   "cell_type": "code",
   "execution_count": 6,
   "metadata": {},
   "outputs": [
    {
     "name": "stdout",
     "output_type": "stream",
     "text": [
      "extracting the content...\n"
     ]
    }
   ],
   "source": [
    "r = requests.get(\"https://resources.gisdata.mn.gov/pub/gdrs/data/pub/us_mn_state_dnr/elev_30m_digital_elevation_model/fgdb_elev_30m_digital_elevation_model.zip\")\n",
    "open('fgdb_elev_30m_digital_elevation_model.zip','wb').write(r.content)\n",
    "print(\"extracting the content...\")\n",
    "with zipfile.ZipFile('fgdb_elev_30m_digital_elevation_model.zip','r') as zip_ref:\n",
    "    zip_ref.extractall(r'C:\\Users\\Zhaoxu Sui\\Documents\\GitHub\\GIS5571\\lab3\\Lab3')"
   ]
  },
  {
   "cell_type": "code",
   "execution_count": 7,
   "metadata": {},
   "outputs": [
    {
     "name": "stdout",
     "output_type": "stream",
     "text": [
      "extracting the content...\n"
     ]
    }
   ],
   "source": [
    "r = requests.get(\"https://resources.gisdata.mn.gov/pub/gdrs/data/pub/us_mn_state_dnr/water_strahler_stream_order/shp_water_strahler_stream_order.zip\")\n",
    "open('shp_water_strahler_stream_order.zip','wb').write(r.content)\n",
    "print(\"extracting the content...\")\n",
    "with zipfile.ZipFile('shp_water_strahler_stream_order.zip','r') as zip_ref:\n",
    "    zip_ref.extractall(r'C:\\Users\\Zhaoxu Sui\\Documents\\GitHub\\GIS5571\\lab3\\Lab3')"
   ]
  },
  {
   "cell_type": "code",
   "execution_count": 8,
   "metadata": {},
   "outputs": [
    {
     "name": "stdout",
     "output_type": "stream",
     "text": [
      "extracting the content...\n"
     ]
    }
   ],
   "source": [
    "r = requests.get(\"https://resources.gisdata.mn.gov/pub/gdrs/data/pub/us_mn_state_dot/trans_roads_mndot_tis/shp_trans_roads_mndot_tis.zip\")\n",
    "open('shp_trans_roads_mndot_tis.zip','wb').write(r.content)\n",
    "print(\"extracting the content...\")\n",
    "with zipfile.ZipFile('shp_trans_roads_mndot_tis.zip','r') as zip_ref:\n",
    "    zip_ref.extractall(r'C:\\Users\\Zhaoxu Sui\\Documents\\GitHub\\GIS5571\\lab3\\Lab3')"
   ]
  },
  {
   "cell_type": "code",
   "execution_count": 11,
   "metadata": {},
   "outputs": [
    {
     "data": {
      "text/plain": [
       "<arcpy._mp.Layer object at 0x0000028075804AC8>"
      ]
     },
     "execution_count": 11,
     "metadata": {},
     "output_type": "execute_result"
    }
   ],
   "source": [
    "#Import ArcPy\n",
    "import arcpy\n",
    "\n",
    "#Import Data\n",
    "data1 = r\"C:\\Users\\Zhaoxu Sui\\Documents\\GitHub\\GIS5571\\lab3\\Lab3\\dnr_stat_plan_areas_prk.shp\"\n",
    "data2 = r\"C:\\Users\\Zhaoxu Sui\\Documents\\GitHub\\GIS5571\\lab3\\Lab3\\landcover_impervious_statewide2013_v2.tif\"\n",
    "data4 = r\"C:\\Users\\Zhaoxu Sui\\Documents\\GitHub\\GIS5571\\lab3\\Lab3\\STREETS_LOAD.shp\"\n",
    "\n",
    "#Add to the Map\n",
    "project = arcpy.mp.ArcGISProject(\"CURRENT\")\n",
    "\n",
    "map = project.activeMap\n",
    "map.addDataFromPath(data1)\n",
    "map.addDataFromPath(data2)\n",
    "map.addDataFromPath(data4)"
   ]
  },
  {
   "cell_type": "markdown",
   "metadata": {},
   "source": [
    "# Re-classify Land Cover Values"
   ]
  },
  {
   "cell_type": "code",
   "execution_count": 1,
   "metadata": {},
   "outputs": [
    {
     "data": {
      "text/html": [
       "<div class='gpresult'><h2>Messages</h2><div id='messages' data-messages='[\"Start Time: Wednesday, December 1, 2021 10:30:56 PM\",\"Succeeded at Wednesday, December 1, 2021 10:32:04 PM (Elapsed Time: 1 minutes 7 seconds)\"]' data-show='true'><div id = 'default' /></div></div>"
      ],
      "text/plain": [
       "<Result 'C:\\\\Users\\\\Zhaoxu Sui\\\\Documents\\\\GitHub\\\\GIS5571\\\\lab3\\\\Lab3\\\\Lab3.gdb\\\\Reclass_land1'>"
      ]
     },
     "execution_count": 1,
     "metadata": {},
     "output_type": "execute_result"
    }
   ],
   "source": [
    "arcpy.ddd.Reclassify(\"landcover_impervious_statewide2013_v2.tif\", \"Value\", \"0 100 105; 101 105;102 1;103 1;104 1;105 100;106 110;107 110;108 110;109 101;110 101;NODATA 5\", r\"C:\\Users\\Zhaoxu Sui\\Documents\\GitHub\\GIS5571\\lab3\\Lab3\\Lab3.gdb\\Reclass_land1\", \"DATA\")"
   ]
  },
  {
   "cell_type": "markdown",
   "metadata": {},
   "source": [
    "# Clip Data"
   ]
  },
  {
   "cell_type": "code",
   "execution_count": 2,
   "metadata": {},
   "outputs": [
    {
     "data": {
      "text/html": [
       "<div class='gpresult'><h2>Messages</h2><div id='messages' data-messages='[\"Start Time: Wednesday, December 1, 2021 10:32:19 PM\",\"Building Pyramids...\",\"Succeeded at Wednesday, December 1, 2021 10:32:20 PM (Elapsed Time: 0.85 seconds)\"]' data-show='true'><div id = 'default' /></div></div>"
      ],
      "text/plain": [
       "<Result 'C:\\\\Users\\\\Zhaoxu Sui\\\\Documents\\\\GitHub\\\\GIS5571\\\\lab3\\\\Lab3\\\\Lab3.gdb\\\\landcover_clipped'>"
      ]
     },
     "execution_count": 2,
     "metadata": {},
     "output_type": "execute_result"
    }
   ],
   "source": [
    "arcpy.management.CreateFeatureclass(r\"C:\\Users\\Zhaoxu Sui\\Documents\\GitHub\\GIS5571\\lab3\\Lab3\\Lab3.gdb\", \"Clip_Boundary\", \"POLYGON\", None, \"DISABLED\", \"DISABLED\", None, '', 0, 0, 0, '')\n",
    "arcpy.management.XYTableToPoint(r\"C:\\Users\\Zhaoxu Sui\\Documents\\GitHub\\GIS5571\\lab2\\Lab 2 Part 2\\Lab 2 Part 2\\xy_Start_Point.txt\", r\"C:\\Users\\Zhaoxu Sui\\Documents\\GitHub\\GIS5571\\lab3\\Lab3\\Lab3.gdb\\xy_Start_Point_XYTableToPoint\", \"LON\", \"LAT\", None, 'GEOGCS[\"GCS_WGS_1984\",DATUM[\"D_WGS_1984\",SPHEROID[\"WGS_1984\",6378137.0,298.257223563]],PRIMEM[\"Greenwich\",0.0],UNIT[\"Degree\",0.0174532925199433]];-400 -400 1000000000;-100000 10000;-100000 10000;8.98315284119521E-09;0.001;0.001;IsHighPrecision')\n",
    "arcpy.management.Clip(\"Reclass_land1\", \"556546.231689453 4871586.49511719 587791.724914551 4891237.27508545\", r\"C:\\Users\\Zhaoxu Sui\\Documents\\GitHub\\GIS5571\\lab3\\Lab3\\Lab3.gdb\\landcover_clipped\", \"Clip_Boundary\", \"15\", \"NONE\", \"NO_MAINTAIN_EXTENT\")"
   ]
  },
  {
   "cell_type": "code",
   "execution_count": 3,
   "metadata": {},
   "outputs": [
    {
     "data": {
      "text/html": [
       "<div class='gpresult'><h2>Messages</h2><div id='messages' data-messages='[\"Start Time: Wednesday, December 1, 2021 10:35:03 PM\",\"Building Pyramids...\",\"Succeeded at Wednesday, December 1, 2021 10:35:04 PM (Elapsed Time: 0.63 seconds)\"]' data-show='true'><div id = 'default' /></div></div>"
      ],
      "text/plain": [
       "<Result 'C:\\\\Users\\\\Zhaoxu Sui\\\\Documents\\\\GitHub\\\\GIS5571\\\\lab3\\\\Lab3\\\\Lab3.gdb\\\\Reclass_Land_clipped'>"
      ]
     },
     "execution_count": 3,
     "metadata": {},
     "output_type": "execute_result"
    }
   ],
   "source": [
    "arcpy.analysis.Clip(\"STREETS_LOAD\", \"Clip_Boundary\", r\"C:\\Users\\Zhaoxu Sui\\Documents\\GitHub\\GIS5571\\lab3\\Lab3\\Lab3.gdb\\streets_Clip\", None)\n",
    "arcpy.management.Clip(\"digital_elevation_model_30m\", \"556546.231689453 4871586.49511719 587791.724914551 4891237.27508545\", r\"C:\\Users\\Zhaoxu Sui\\Documents\\GitHub\\GIS5571\\lab3\\Lab3\\Lab3.gdb\\Elevation_clipped\", \"Clip_Boundary\", \"15\", \"NONE\", \"NO_MAINTAIN_EXTENT\")\n",
    "arcpy.management.Clip(\"Reclass_land1\", \"556477.184875488 4871553.73748779 587834.913085938 4891274.80871582\", r\"C:\\Users\\Zhaoxu Sui\\Documents\\GitHub\\GIS5571\\lab3\\Lab3\\Lab3.gdb\\Reclass_Land_clipped\", \"Clip_Boundary\", \"127\", \"NONE\", \"NO_MAINTAIN_EXTENT\")"
   ]
  },
  {
   "cell_type": "markdown",
   "metadata": {},
   "source": [
    "# Rasterize Roads Layer and Calculate Bridges"
   ]
  },
  {
   "cell_type": "code",
   "execution_count": 4,
   "metadata": {},
   "outputs": [
    {
     "data": {
      "text/html": [
       "<div class='gpresult'><h2>Messages</h2><div id='messages' data-messages='[\"Start Time: Wednesday, December 1, 2021 10:35:10 PM\",\"Succeeded at Wednesday, December 1, 2021 10:35:11 PM (Elapsed Time: 0.86 seconds)\"]' data-show='true'><div id = 'default' /></div></div>"
      ],
      "text/plain": [
       "<Result 'C:\\\\Users\\\\Zhaoxu Sui\\\\Documents\\\\GitHub\\\\GIS5571\\\\lab3\\\\Lab3\\\\Lab3.gdb\\\\streets_Raster'>"
      ]
     },
     "execution_count": 4,
     "metadata": {},
     "output_type": "execute_result"
    }
   ],
   "source": [
    "arcpy.conversion.PolylineToRaster(\"streets_Clip\", \"STREET_PRE\", r\"C:\\Users\\Zhaoxu Sui\\Documents\\GitHub\\GIS5571\\lab3\\Lab3\\Lab3.gdb\\streets_Raster\", \"MAXIMUM_LENGTH\", \"NONE\", 15, \"BUILD\")"
   ]
  },
  {
   "cell_type": "markdown",
   "metadata": {},
   "source": [
    "# Generate and Rescale Slope"
   ]
  },
  {
   "cell_type": "code",
   "execution_count": 5,
   "metadata": {},
   "outputs": [
    {
     "data": {
      "text/html": [
       "<div class='gpresult'><h2>Messages</h2><div id='messages' data-messages='[\"Start Time: Wednesday, December 1, 2021 10:35:36 PM\",\"Succeeded at Wednesday, December 1, 2021 10:35:36 PM (Elapsed Time: 0.70 seconds)\"]' data-show='true'><div id = 'default' /></div></div>"
      ],
      "text/plain": [
       "<Result 'C:\\\\Users\\\\Zhaoxu Sui\\\\Documents\\\\GitHub\\\\GIS5571\\\\lab3\\\\Lab3\\\\Lab3.gdb\\\\Slope'>"
      ]
     },
     "execution_count": 5,
     "metadata": {},
     "output_type": "execute_result"
    }
   ],
   "source": [
    "arcpy.ddd.Slope(\"Elevation_clipped\", r\"C:\\Users\\Zhaoxu Sui\\Documents\\GitHub\\GIS5571\\lab3\\Lab3\\Lab3.gdb\\Slope\", \"DEGREE\", 1, \"PLANAR\", \"METER\")"
   ]
  },
  {
   "cell_type": "code",
   "execution_count": 6,
   "metadata": {},
   "outputs": [
    {
     "data": {
      "text/html": [
       "<div class='gpresult'><h2>Messages</h2><div id='messages' data-messages='[\"Start Time: Wednesday, December 1, 2021 10:35:37 PM\",\"Succeeded at Wednesday, December 1, 2021 10:35:38 PM (Elapsed Time: 0.71 seconds)\"]' data-show='true'><div id = 'default' /></div></div>"
      ],
      "text/plain": [
       "<Result 'C:\\\\Users\\\\Zhaoxu Sui\\\\Documents\\\\GitHub\\\\GIS5571\\\\lab3\\\\Lab3\\\\Lab3.gdb\\\\Recale_Slope'>"
      ]
     },
     "execution_count": 6,
     "metadata": {},
     "output_type": "execute_result"
    }
   ],
   "source": [
    "arcpy.ddd.Reclassify(\"Slope\", \"VALUE\", \"0 1.720000 11;1.720000 3.430000 10;3.430000 5.710000 9;5.710000 8.530000 8;8.530000 11.300000 7;11.300000 14.040000 6;14.040000 16.700000 5;16.700000 21.800000 4;21.800000 30.960000 3;30.960000 45 2;45 90 1\", r\"C:\\Users\\Zhaoxu Sui\\Documents\\GitHub\\GIS5571\\lab3\\Lab3\\Lab3.gdb\\Recale_Slope\", \"DATA\")"
   ]
  },
  {
   "cell_type": "code",
   "execution_count": 7,
   "metadata": {},
   "outputs": [
    {
     "data": {
      "text/html": [
       "<div class='gpresult'><h2>Messages</h2><div id='messages' data-messages='[\"Start Time: Wednesday, December 1, 2021 10:35:38 PM\",\"Building Pyramids...\",\"Succeeded at Wednesday, December 1, 2021 10:35:40 PM (Elapsed Time: 1.14 seconds)\"]' data-show='true'><div id = 'default' /></div></div>"
      ],
      "text/plain": [
       "<Result 'C:\\\\Users\\\\Zhaoxu Sui\\\\Documents\\\\GitHub\\\\GIS5571\\\\lab3\\\\Lab3\\\\Lab3.gdb\\\\Recale_Slope_Resample'>"
      ]
     },
     "execution_count": 7,
     "metadata": {},
     "output_type": "execute_result"
    }
   ],
   "source": [
    "arcpy.management.Resample(\"Recale_Slope\", r\"C:\\Users\\Zhaoxu Sui\\Documents\\GitHub\\GIS5571\\lab3\\Lab3\\Lab3.gdb\\Recale_Slope_Resample\", \"10 10\", \"CUBIC\")"
   ]
  },
  {
   "cell_type": "markdown",
   "metadata": {},
   "source": [
    "# Merge the State Park Destinations into the Point Feature Class¶"
   ]
  },
  {
   "cell_type": "code",
   "execution_count": 8,
   "metadata": {},
   "outputs": [
    {
     "data": {
      "text/html": [
       "<div class='gpresult'><h2>Messages</h2><div id='messages' data-messages='[\"Start Time: Wednesday, December 1, 2021 10:35:40 PM\",\"Succeeded at Wednesday, December 1, 2021 10:35:40 PM (Elapsed Time: 0.02 seconds)\"]' data-show='true'><div id = 'default' /></div></div>"
      ],
      "text/plain": [
       "<Result 'dnr_stat_plan_areas_prk'>"
      ]
     },
     "execution_count": 8,
     "metadata": {},
     "output_type": "execute_result"
    }
   ],
   "source": [
    "arcpy.management.SelectLayerByAttribute(\"dnr_stat_plan_areas_prk\", \"NEW_SELECTION\", \"AREA_NAME = 'Whitewater'\", None)"
   ]
  },
  {
   "cell_type": "code",
   "execution_count": 9,
   "metadata": {},
   "outputs": [
    {
     "data": {
      "text/html": [
       "<div class='gpresult'><h2>Messages</h2><div id='messages' data-messages='[\"Start Time: Wednesday, December 1, 2021 10:35:41 PM\",\"Succeeded at Wednesday, December 1, 2021 10:35:42 PM (Elapsed Time: 0.40 seconds)\"]' data-show='true'><div id = 'default' /></div></div>"
      ],
      "text/plain": [
       "<Result 'C:\\\\Users\\\\Zhaoxu Sui\\\\Documents\\\\GitHub\\\\GIS5571\\\\lab3\\\\Lab3\\\\Lab3.gdb\\\\End_Point'>"
      ]
     },
     "execution_count": 9,
     "metadata": {},
     "output_type": "execute_result"
    }
   ],
   "source": [
    "arcpy.management.FeatureToPoint(\"dnr_stat_plan_areas_prk\", r\"C:\\Users\\Zhaoxu Sui\\Documents\\GitHub\\GIS5571\\lab3\\Lab3\\Lab3.gdb\\End_Point\", \"CENTROID\")"
   ]
  },
  {
   "cell_type": "code",
   "execution_count": 10,
   "metadata": {},
   "outputs": [
    {
     "data": {
      "text/html": [
       "<div class='gpresult'><h2>Messages</h2><div id='messages' data-messages='[\"Start Time: Wednesday, December 1, 2021 10:35:42 PM\",\"Succeeded at Wednesday, December 1, 2021 10:35:42 PM (Elapsed Time: 0.27 seconds)\"]' data-show='true'><div id = 'default' /></div></div>"
      ],
      "text/plain": [
       "<Result 'C:\\\\Users\\\\Zhaoxu Sui\\\\Documents\\\\GitHub\\\\GIS5571\\\\lab3\\\\Lab3\\\\Lab3.gdb\\\\Start_End_Point'>"
      ]
     },
     "execution_count": 10,
     "metadata": {},
     "output_type": "execute_result"
    }
   ],
   "source": [
    "arcpy.management.Merge(\"xy_Start_Point_XYTableToPoint;End_Point\", r\"C:\\Users\\Zhaoxu Sui\\Documents\\GitHub\\GIS5571\\lab3\\Lab3\\Lab3.gdb\\Start_End_Point\", 'Name \"Name\" true true false 8000 Text 0 0,First,#,xy_Start_Point_XYTableToPoint,Name,0,8000,End_Point,AREA_NAME,0,128', \"NO_SOURCE_INFO\")"
   ]
  },
  {
   "cell_type": "markdown",
   "metadata": {},
   "source": [
    "# Rescale and Managing Bridges"
   ]
  },
  {
   "cell_type": "code",
   "execution_count": 11,
   "metadata": {},
   "outputs": [
    {
     "data": {
      "text/html": [
       "<div class='gpresult'><h2>Messages</h2><div id='messages' data-messages='[\"Start Time: Wednesday, December 1, 2021 10:35:46 PM\",\"Succeeded at Wednesday, December 1, 2021 10:35:46 PM (Elapsed Time: 0.72 seconds)\"]' data-show='true'><div id = 'default' /></div></div>"
      ],
      "text/plain": [
       "<Result 'C:\\\\Users\\\\Zhaoxu Sui\\\\Documents\\\\GitHub\\\\GIS5571\\\\lab3\\\\Lab3\\\\Lab3.gdb\\\\Reclass_streets'>"
      ]
     },
     "execution_count": 11,
     "metadata": {},
     "output_type": "execute_result"
    }
   ],
   "source": [
    "arcpy.ddd.Reclassify(\"streets_Raster\", \"STREET_PRE\", \"' ' 100;NE 100;E 100;W 100;N 100;S 100;NODATA 0\", r\"C:\\Users\\Zhaoxu Sui\\Documents\\GitHub\\GIS5571\\lab3\\Lab3\\Lab3.gdb\\Reclass_streets\", \"DATA\")"
   ]
  },
  {
   "cell_type": "code",
   "execution_count": 12,
   "metadata": {},
   "outputs": [],
   "source": [
    "#Sum the Reclassified Streets Layer and the Land Use Layer together by Using Raster Calculator"
   ]
  },
  {
   "cell_type": "markdown",
   "metadata": {},
   "source": [
    "# Optimal Path if Both Land Classification and the Slope are in a same weight"
   ]
  },
  {
   "cell_type": "code",
   "execution_count": 14,
   "metadata": {},
   "outputs": [],
   "source": [
    "Weighted_Sum_1 = arcpy.ia.WeightedSum(\"Altered_Land_Use Value 1;Recale_Slope Value 1\"); Weighted_Sum_1.save(r\"C:\\Users\\Zhaoxu Sui\\Documents\\GitHub\\GIS5571\\lab3\\Lab3\\Lab3.gdb\\Weighted_Sum_1\")"
   ]
  },
  {
   "cell_type": "code",
   "execution_count": 15,
   "metadata": {},
   "outputs": [
    {
     "data": {
      "text/html": [
       "<div class='gpresult'><h2>Messages</h2><div id='messages' data-messages='[\"Start Time: Wednesday, December 1, 2021 10:38:37 PM\",\"Succeeded at Wednesday, December 1, 2021 10:38:38 PM (Elapsed Time: 0.78 seconds)\"]' data-show='true'><div id = 'default' /></div></div>"
      ],
      "text/plain": [
       "<Result 'C:\\\\Users\\\\Zhaoxu Sui\\\\Documents\\\\GitHub\\\\GIS5571\\\\lab3\\\\Lab3\\\\Lab3.gdb\\\\Reclassed_Sum_1'>"
      ]
     },
     "execution_count": 15,
     "metadata": {},
     "output_type": "execute_result"
    }
   ],
   "source": [
    "arcpy.ddd.Reclassify(\"Weighted_Sum_1\", \"VALUE\", \"1 107.729412 1000;107.729412 111.117647 10;111.117647 112.811765 8;112.811765 117.047059 6;117.047059 217 5\", r\"C:\\Users\\Zhaoxu Sui\\Documents\\GitHub\\GIS5571\\lab3\\Lab3\\Lab3.gdb\\Reclassed_Sum_1\", \"DATA\")"
   ]
  },
  {
   "cell_type": "code",
   "execution_count": 16,
   "metadata": {},
   "outputs": [
    {
     "data": {
      "text/html": [
       "<div class='gpresult'><h2>Messages</h2><div id='messages' data-messages='[\"Start Time: Wednesday, December 1, 2021 10:38:41 PM\",\"Optimal Region Connections: Input Features rasterized to C:\\\\Users\\\\ZHAOXU~1\\\\AppData\\\\Local\\\\Temp\\\\ArcGISProTemp9704\\\\{817DD53D-D153-4792-81E0-A91EAE332D09}97046844.crf.\",\"Optimal Region Connections: Allocating analysis area to input regions.\",\"Temporary data will be created in C:\\\\Users\\\\ZHAOXU~1\\\\AppData\\\\Local\\\\Temp\\\\ArcGISProTemp9704\\\\s73c20e49_92e8_46d9_85f1_f47ac0e0a2ad\",\"85 MB of temporary storage is estimated to be needed. 372,228 MB of storage is currently available.\",\"2021-12-01T22:38:43.954: Initialization Phase ...\",\"2021-12-01T22:38:44.211: Iteration Phase ...\",\"2021-12-01T22:38:44.836: Completion Phase ...\",\"84 MB of temporary storage was used.\",\"Optimal Region Connections: Connecting regions.\",\"Temporary data will be created in C:\\\\Users\\\\ZHAOXU~1\\\\AppData\\\\Local\\\\Temp\\\\ArcGISProTemp9704\\\\s614bd36b_cb30_4d46_94d4_e1f32d6dd08c\",\"113 MB of temporary storage is estimated to be needed. 372,227 MB of storage is currently available.\",\"2021-12-01T22:38:47.282: Initialization Phase ...\",\"2021-12-01T22:38:47.600: Iteration Phase ...\",\"2021-12-01T22:38:47.987: Completion Phase ...\",\"113 MB of temporary storage was used.\",\"Succeeded at Wednesday, December 1, 2021 10:38:48 PM (Elapsed Time: 6.75 seconds)\"]' data-show='true'><div id = 'default' /></div></div>"
      ],
      "text/plain": [
       "<geoprocessing server result object object at 0x000002B18B28AC30>"
      ]
     },
     "execution_count": 16,
     "metadata": {},
     "output_type": "execute_result"
    }
   ],
   "source": [
    "arcpy.sa.OptimalRegionConnections(\"Start_End_Point\", r\"C:\\Users\\Zhaoxu Sui\\Documents\\GitHub\\GIS5571\\lab3\\Lab3\\Lab3.gdb\\Optimal_Start_E1\", None, \"Reclassed_Sum_1\", None, \"PLANAR\", \"GENERATE_CONNECTIONS\")"
   ]
  },
  {
   "cell_type": "markdown",
   "metadata": {},
   "source": [
    "# Optimal Path if Slope is being put in more weights"
   ]
  },
  {
   "cell_type": "code",
   "execution_count": 17,
   "metadata": {},
   "outputs": [],
   "source": [
    "Weighted_Sum_2 = arcpy.ia.WeightedSum(\"Recale_Slope Value 3;Altered_Land_Use Value 1\"); Weighted_Sum_2.save(r\"C:\\Users\\Zhaoxu Sui\\Documents\\GitHub\\GIS5571\\lab3\\Lab3\\Lab3.gdb\\Weighted_Sum_2\")"
   ]
  },
  {
   "cell_type": "code",
   "execution_count": 18,
   "metadata": {},
   "outputs": [
    {
     "data": {
      "text/html": [
       "<div class='gpresult'><h2>Messages</h2><div id='messages' data-messages='[\"Start Time: Wednesday, December 1, 2021 10:39:06 PM\",\"Succeeded at Wednesday, December 1, 2021 10:39:07 PM (Elapsed Time: 0.75 seconds)\"]' data-show='true'><div id = 'default' /></div></div>"
      ],
      "text/plain": [
       "<Result 'C:\\\\Users\\\\Zhaoxu Sui\\\\Documents\\\\GitHub\\\\GIS5571\\\\lab3\\\\Lab3\\\\Lab3.gdb\\\\Reclassed_Sum_2'>"
      ]
     },
     "execution_count": 18,
     "metadata": {},
     "output_type": "execute_result"
    }
   ],
   "source": [
    "arcpy.ddd.Reclassify(\"Weighted_Sum_2\", \"VALUE\", \"1 107.729412 1000;107.729412 111.117647 10;111.117647 112.811765 8;112.811765 117.047059 6;117.047059 217 5\", r\"C:\\Users\\Zhaoxu Sui\\Documents\\GitHub\\GIS5571\\lab3\\Lab3\\Lab3.gdb\\Reclassed_Sum_2\", \"DATA\")"
   ]
  },
  {
   "cell_type": "code",
   "execution_count": 19,
   "metadata": {},
   "outputs": [
    {
     "data": {
      "text/html": [
       "<div class='gpresult'><h2>Messages</h2><div id='messages' data-messages='[\"Start Time: Wednesday, December 1, 2021 10:39:08 PM\",\"Optimal Region Connections: Input Features rasterized to C:\\\\Users\\\\ZHAOXU~1\\\\AppData\\\\Local\\\\Temp\\\\ArcGISProTemp9704\\\\{C24B6F4D-7255-4C6B-BC57-969E9C3DEA06}97046844.crf.\",\"Optimal Region Connections: Allocating analysis area to input regions.\",\"Temporary data will be created in C:\\\\Users\\\\ZHAOXU~1\\\\AppData\\\\Local\\\\Temp\\\\ArcGISProTemp9704\\\\s73ddf8bc_bdd4_4470_98b7_6299ba3f78e4\",\"85 MB of temporary storage is estimated to be needed. 372,213 MB of storage is currently available.\",\"2021-12-01T22:39:10.523: Initialization Phase ...\",\"2021-12-01T22:39:10.770: Iteration Phase ...\",\"2021-12-01T22:39:10.945: Completion Phase ...\",\"84 MB of temporary storage was used.\",\"Optimal Region Connections: Connecting regions.\",\"Temporary data will be created in C:\\\\Users\\\\ZHAOXU~1\\\\AppData\\\\Local\\\\Temp\\\\ArcGISProTemp9704\\\\s68c5c7ee_bbf5_4055_8a38_64f3c9db26f0\",\"113 MB of temporary storage is estimated to be needed. 372,211 MB of storage is currently available.\",\"2021-12-01T22:39:13.000: Initialization Phase ...\",\"2021-12-01T22:39:13.310: Iteration Phase ...\",\"2021-12-01T22:39:13.675: Completion Phase ...\",\"113 MB of temporary storage was used.\",\"Succeeded at Wednesday, December 1, 2021 10:39:14 PM (Elapsed Time: 5.51 seconds)\"]' data-show='true'><div id = 'default' /></div></div>"
      ],
      "text/plain": [
       "<geoprocessing server result object object at 0x000002B18698A030>"
      ]
     },
     "execution_count": 19,
     "metadata": {},
     "output_type": "execute_result"
    }
   ],
   "source": [
    "arcpy.sa.OptimalRegionConnections(\"Start_End_Point\", r\"C:\\Users\\Zhaoxu Sui\\Documents\\GitHub\\GIS5571\\lab3\\Lab3\\Lab3.gdb\\Optimal_Start_E2\", None, \"Reclassed_Sum_2\", None, \"PLANAR\", \"GENERATE_CONNECTIONS\")"
   ]
  },
  {
   "cell_type": "markdown",
   "metadata": {},
   "source": [
    "# Optimal Path if Slope is being put in significantly more weights"
   ]
  },
  {
   "cell_type": "code",
   "execution_count": 20,
   "metadata": {},
   "outputs": [],
   "source": [
    "Weighted_Sum_3 = arcpy.ia.WeightedSum(\"Recale_Slope Value 10;Altered_Land_Use Value 1\"); Weighted_Sum_3.save(r\"C:\\Users\\Zhaoxu Sui\\Documents\\GitHub\\GIS5571\\lab3\\Lab3\\Lab3.gdb\\Weighted_Sum_3\")"
   ]
  },
  {
   "cell_type": "code",
   "execution_count": 21,
   "metadata": {},
   "outputs": [
    {
     "data": {
      "text/html": [
       "<div class='gpresult'><h2>Messages</h2><div id='messages' data-messages='[\"Start Time: Wednesday, December 1, 2021 10:39:17 PM\",\"Succeeded at Wednesday, December 1, 2021 10:39:18 PM (Elapsed Time: 0.85 seconds)\"]' data-show='true'><div id = 'default' /></div></div>"
      ],
      "text/plain": [
       "<Result 'C:\\\\Users\\\\Zhaoxu Sui\\\\Documents\\\\GitHub\\\\GIS5571\\\\lab3\\\\Lab3\\\\Lab3.gdb\\\\Reclassed_Sum_3'>"
      ]
     },
     "execution_count": 21,
     "metadata": {},
     "output_type": "execute_result"
    }
   ],
   "source": [
    "arcpy.ddd.Reclassify(\"Weighted_Sum_3\", \"VALUE\", \"1 107.729412 1000;107.729412 111.117647 10;111.117647 112.811765 8;112.811765 117.047059 6;117.047059 217 5\", r\"C:\\Users\\Zhaoxu Sui\\Documents\\GitHub\\GIS5571\\lab3\\Lab3\\Lab3.gdb\\Reclassed_Sum_3\", \"DATA\")"
   ]
  },
  {
   "cell_type": "code",
   "execution_count": 22,
   "metadata": {},
   "outputs": [
    {
     "data": {
      "text/html": [
       "<div class='gpresult'><h2>Messages</h2><div id='messages' data-messages='[\"Start Time: Wednesday, December 1, 2021 10:39:19 PM\",\"Optimal Region Connections: Input Features rasterized to C:\\\\Users\\\\ZHAOXU~1\\\\AppData\\\\Local\\\\Temp\\\\ArcGISProTemp9704\\\\{2572703D-A569-49DF-85A2-0F030EDB9F5F}97046844.crf.\",\"Optimal Region Connections: Allocating analysis area to input regions.\",\"Temporary data will be created in C:\\\\Users\\\\ZHAOXU~1\\\\AppData\\\\Local\\\\Temp\\\\ArcGISProTemp9704\\\\sc32cdc7f_0268_4f54_b7cc_6ba6c83e232e\",\"85 MB of temporary storage is estimated to be needed. 372,196 MB of storage is currently available.\",\"2021-12-01T22:39:20.951: Initialization Phase ...\",\"2021-12-01T22:39:21.212: Iteration Phase ...\",\"2021-12-01T22:39:21.380: Completion Phase ...\",\"84 MB of temporary storage was used.\",\"Optimal Region Connections: Connecting regions.\",\"Temporary data will be created in C:\\\\Users\\\\ZHAOXU~1\\\\AppData\\\\Local\\\\Temp\\\\ArcGISProTemp9704\\\\sdd12d2c9_b883_434f_b77c_f4e62c797ccb\",\"113 MB of temporary storage is estimated to be needed. 372,196 MB of storage is currently available.\",\"2021-12-01T22:39:23.480: Initialization Phase ...\",\"2021-12-01T22:39:23.797: Iteration Phase ...\",\"2021-12-01T22:39:24.452: Completion Phase ...\",\"113 MB of temporary storage was used.\",\"Succeeded at Wednesday, December 1, 2021 10:39:24 PM (Elapsed Time: 5.78 seconds)\"]' data-show='true'><div id = 'default' /></div></div>"
      ],
      "text/plain": [
       "<geoprocessing server result object object at 0x000002B18B28AE10>"
      ]
     },
     "execution_count": 22,
     "metadata": {},
     "output_type": "execute_result"
    }
   ],
   "source": [
    "arcpy.sa.OptimalRegionConnections(\"Start_End_Point\", r\"C:\\Users\\Zhaoxu Sui\\Documents\\GitHub\\GIS5571\\lab3\\Lab3\\Lab3.gdb\\Optimal_Start_E3\", None, \"Reclassed_Sum_3\", None, \"PLANAR\", \"GENERATE_CONNECTIONS\")"
   ]
  },
  {
   "cell_type": "code",
   "execution_count": null,
   "metadata": {},
   "outputs": [],
   "source": []
  }
 ],
 "metadata": {
  "kernelspec": {
   "display_name": "ArcGISPro",
   "language": "Python",
   "name": "python3"
  },
  "language_info": {
   "file_extension": ".py",
   "name": "python",
   "version": "3"
  }
 },
 "nbformat": 4,
 "nbformat_minor": 2
}
